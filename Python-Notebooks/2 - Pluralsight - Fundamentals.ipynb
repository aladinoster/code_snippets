{
 "cells": [
  {
   "cell_type": "markdown",
   "metadata": {},
   "source": [
    "# A brief review of Python - Pluralsight\n",
    "\n",
    "Notes taken from the pluralsight courses. Courses are separated in three main groups \n",
    "\n",
    "1. Python fundamentals \n",
    "2. Python beyond the basics\n",
    "3. Advanced Python\n",
    "\n",
    "## Python fundamentals\n",
    "\n",
    "### Session - Strings\n",
    "\n",
    "Comments about strings."
   ]
  },
  {
   "cell_type": "code",
   "execution_count": 1,
   "metadata": {},
   "outputs": [
    {
     "data": {
      "text/plain": [
       "3.3333333333333335"
      ]
     },
     "execution_count": 1,
     "metadata": {},
     "output_type": "execute_result"
    }
   ],
   "source": [
    "10/3"
   ]
  },
  {
   "cell_type": "code",
   "execution_count": 2,
   "metadata": {},
   "outputs": [
    {
     "data": {
      "text/plain": [
       "3"
      ]
     },
     "execution_count": 2,
     "metadata": {},
     "output_type": "execute_result"
    }
   ],
   "source": [
    "10//3"
   ]
  },
  {
   "cell_type": "markdown",
   "metadata": {},
   "source": [
    "Explicit is better than implicit"
   ]
  },
  {
   "cell_type": "code",
   "execution_count": 3,
   "metadata": {},
   "outputs": [
    {
     "name": "stdout",
     "output_type": "stream",
     "text": [
      "Greater than 1\n"
     ]
    }
   ],
   "source": [
    "x = 1\n",
    "if x>0:\n",
    "    print('Greater than 1')  "
   ]
  },
  {
   "cell_type": "code",
   "execution_count": 4,
   "metadata": {},
   "outputs": [
    {
     "data": {
      "text/plain": [
       "'This is a string'"
      ]
     },
     "execution_count": 4,
     "metadata": {},
     "output_type": "execute_result"
    }
   ],
   "source": [
    "'This is a string'"
   ]
  },
  {
   "cell_type": "code",
   "execution_count": 5,
   "metadata": {},
   "outputs": [
    {
     "data": {
      "text/plain": [
       "'This is a string'"
      ]
     },
     "execution_count": 5,
     "metadata": {},
     "output_type": "execute_result"
    }
   ],
   "source": [
    "\"This is a string\""
   ]
  },
  {
   "cell_type": "code",
   "execution_count": 6,
   "metadata": {},
   "outputs": [
    {
     "data": {
      "text/plain": [
       "'This is \\na multiline'"
      ]
     },
     "execution_count": 6,
     "metadata": {},
     "output_type": "execute_result"
    }
   ],
   "source": [
    "\"\"\"This is \n",
    "a multiline\"\"\""
   ]
  },
  {
   "cell_type": "code",
   "execution_count": 7,
   "metadata": {},
   "outputs": [
    {
     "data": {
      "text/plain": [
       "'This is \\na multiline'"
      ]
     },
     "execution_count": 7,
     "metadata": {},
     "output_type": "execute_result"
    }
   ],
   "source": [
    "\"This is \\na multiline\""
   ]
  },
  {
   "cell_type": "code",
   "execution_count": 8,
   "metadata": {},
   "outputs": [
    {
     "name": "stdout",
     "output_type": "stream",
     "text": [
      "This is \n",
      "a multiline\n"
     ]
    }
   ],
   "source": [
    "print(\"This is \\na multiline\")"
   ]
  },
  {
   "cell_type": "code",
   "execution_count": 9,
   "metadata": {},
   "outputs": [
    {
     "name": "stdout",
     "output_type": "stream",
     "text": [
      "\\ is meant to escape a special operator\n"
     ]
    }
   ],
   "source": [
    "print(\"\\\\ is meant to escape a special operator\")"
   ]
  },
  {
   "cell_type": "code",
   "execution_count": 10,
   "metadata": {},
   "outputs": [
    {
     "data": {
      "text/plain": [
       "\"This is a ' string\""
      ]
     },
     "execution_count": 10,
     "metadata": {},
     "output_type": "execute_result"
    }
   ],
   "source": [
    "\"This is a \\' string\""
   ]
  },
  {
   "cell_type": "code",
   "execution_count": 11,
   "metadata": {},
   "outputs": [
    {
     "data": {
      "text/plain": [
       "'C:\\\\Andres\\\\Documents'"
      ]
     },
     "execution_count": 11,
     "metadata": {},
     "output_type": "execute_result"
    }
   ],
   "source": [
    "# This are called raw street\n",
    "path = r'C:\\Andres\\Documents'\n",
    "path"
   ]
  },
  {
   "cell_type": "code",
   "execution_count": 12,
   "metadata": {},
   "outputs": [
    {
     "data": {
      "text/plain": [
       "'5.0'"
      ]
     },
     "execution_count": 12,
     "metadata": {},
     "output_type": "execute_result"
    }
   ],
   "source": [
    "str(5.0)"
   ]
  },
  {
   "cell_type": "code",
   "execution_count": 13,
   "metadata": {},
   "outputs": [
    {
     "data": {
      "text/plain": [
       "'Andres'"
      ]
     },
     "execution_count": 13,
     "metadata": {},
     "output_type": "execute_result"
    }
   ],
   "source": [
    "str.capitalize('andres')"
   ]
  },
  {
   "cell_type": "code",
   "execution_count": 14,
   "metadata": {},
   "outputs": [
    {
     "data": {
      "text/plain": [
       "'Andres'"
      ]
     },
     "execution_count": 14,
     "metadata": {},
     "output_type": "execute_result"
    }
   ],
   "source": [
    "name = 'andres'\n",
    "name.capitalize()"
   ]
  },
  {
   "cell_type": "code",
   "execution_count": 15,
   "metadata": {},
   "outputs": [
    {
     "data": {
      "text/plain": [
       "'I can accept an accent Andrés'"
      ]
     },
     "execution_count": 15,
     "metadata": {},
     "output_type": "execute_result"
    }
   ],
   "source": [
    "special_string = 'I can accept an accent Andrés'\n",
    "special_string"
   ]
  },
  {
   "cell_type": "markdown",
   "metadata": {},
   "source": [
    "#### Bytes\n",
    "\n",
    "This is useful for binary data and ASCII"
   ]
  },
  {
   "cell_type": "code",
   "execution_count": 16,
   "metadata": {},
   "outputs": [
    {
     "data": {
      "text/plain": [
       "b'some bytes'"
      ]
     },
     "execution_count": 16,
     "metadata": {},
     "output_type": "execute_result"
    }
   ],
   "source": [
    "string_byte=b'some bytes'\n",
    "string_byte"
   ]
  },
  {
   "cell_type": "code",
   "execution_count": 17,
   "metadata": {},
   "outputs": [
    {
     "data": {
      "text/plain": [
       "[b'some', b'bytes']"
      ]
     },
     "execution_count": 17,
     "metadata": {},
     "output_type": "execute_result"
    }
   ],
   "source": [
    "string_byte.split()"
   ]
  },
  {
   "cell_type": "code",
   "execution_count": 18,
   "metadata": {},
   "outputs": [
    {
     "data": {
      "text/plain": [
       "b'Yo me llamo Andr\\xc3\\xa9s y tengo 29 a\\xc3\\xb1os'"
      ]
     },
     "execution_count": 18,
     "metadata": {},
     "output_type": "execute_result"
    }
   ],
   "source": [
    "original = \"Yo me llamo Andrés y tengo 29 años\"\n",
    "encoded = original.encode(\"utf-8\")\n",
    "encoded"
   ]
  },
  {
   "cell_type": "code",
   "execution_count": 19,
   "metadata": {},
   "outputs": [
    {
     "data": {
      "text/plain": [
       "'Yo me llamo Andrés y tengo 29 años'"
      ]
     },
     "execution_count": 19,
     "metadata": {},
     "output_type": "execute_result"
    }
   ],
   "source": [
    "decoded = encoded.decode(\"utf-8\")\n",
    "decoded"
   ]
  },
  {
   "cell_type": "code",
   "execution_count": 20,
   "metadata": {},
   "outputs": [
    {
     "data": {
      "text/plain": [
       "True"
      ]
     },
     "execution_count": 20,
     "metadata": {},
     "output_type": "execute_result"
    }
   ],
   "source": [
    "decoded == original"
   ]
  },
  {
   "cell_type": "markdown",
   "metadata": {},
   "source": [
    "#### Lists\n",
    "\n",
    "Mutable objects"
   ]
  },
  {
   "cell_type": "code",
   "execution_count": 21,
   "metadata": {},
   "outputs": [
    {
     "data": {
      "text/plain": [
       "[1, 2, 3]"
      ]
     },
     "execution_count": 21,
     "metadata": {},
     "output_type": "execute_result"
    }
   ],
   "source": [
    "[1, 2, 3]"
   ]
  },
  {
   "cell_type": "code",
   "execution_count": 22,
   "metadata": {},
   "outputs": [
    {
     "data": {
      "text/plain": [
       "'a'"
      ]
     },
     "execution_count": 22,
     "metadata": {},
     "output_type": "execute_result"
    }
   ],
   "source": [
    "alphabet  = ['a','b','c']\n",
    "alphabet[0]"
   ]
  },
  {
   "cell_type": "code",
   "execution_count": 23,
   "metadata": {},
   "outputs": [
    {
     "data": {
      "text/plain": [
       "['C', 'h', 'a', 'r', 'a', 'c', 't', 'e', 'r', 's']"
      ]
     },
     "execution_count": 23,
     "metadata": {},
     "output_type": "execute_result"
    }
   ],
   "source": [
    "list(\"Characters\")"
   ]
  },
  {
   "cell_type": "code",
   "execution_count": 24,
   "metadata": {},
   "outputs": [
    {
     "data": {
      "text/plain": [
       "['hi', 'this', 'is', 'lines']"
      ]
     },
     "execution_count": 24,
     "metadata": {},
     "output_type": "execute_result"
    }
   ],
   "source": [
    "# Readability\n",
    "c = ['hi',\n",
    "    'this',\n",
    "    'is',\n",
    "    'lines']\n",
    "c"
   ]
  },
  {
   "cell_type": "code",
   "execution_count": 25,
   "metadata": {},
   "outputs": [
    {
     "data": {
      "text/plain": [
       "[0, 1, 2, 3, 4]"
      ]
     },
     "execution_count": 25,
     "metadata": {},
     "output_type": "execute_result"
    }
   ],
   "source": [
    "list(range(5))"
   ]
  },
  {
   "cell_type": "markdown",
   "metadata": {},
   "source": [
    "#### Dictionary \n",
    "\n",
    "Keys + values required"
   ]
  },
  {
   "cell_type": "code",
   "execution_count": 26,
   "metadata": {},
   "outputs": [
    {
     "data": {
      "text/plain": [
       "1"
      ]
     },
     "execution_count": 26,
     "metadata": {},
     "output_type": "execute_result"
    }
   ],
   "source": [
    "family = {'mom': 1, 'dad': 2, 'sis': 3}\n",
    "family['mom']"
   ]
  },
  {
   "cell_type": "code",
   "execution_count": 27,
   "metadata": {},
   "outputs": [
    {
     "data": {
      "text/plain": [
       "{'dad': 2, 'mom': 1, 'sis': 3, 'sofy': 4}"
      ]
     },
     "execution_count": 27,
     "metadata": {},
     "output_type": "execute_result"
    }
   ],
   "source": [
    "family['sofy']= 4\n",
    "family"
   ]
  },
  {
   "cell_type": "code",
   "execution_count": 28,
   "metadata": {},
   "outputs": [],
   "source": [
    "new_dict = {}"
   ]
  },
  {
   "cell_type": "markdown",
   "metadata": {},
   "source": [
    "#### For cycles\n",
    "\n",
    "Let's see how to iterate!"
   ]
  },
  {
   "cell_type": "code",
   "execution_count": 29,
   "metadata": {},
   "outputs": [],
   "source": [
    "colors  = {'red': [1, 0, 0], 'blue': [0, 0, 1], 'green': [0, 1, 0]}"
   ]
  },
  {
   "cell_type": "code",
   "execution_count": 30,
   "metadata": {},
   "outputs": [
    {
     "name": "stdout",
     "output_type": "stream",
     "text": [
      "red [1, 0, 0]\n",
      "blue [0, 0, 1]\n",
      "green [0, 1, 0]\n"
     ]
    }
   ],
   "source": [
    "for key in colors:\n",
    "    print(key,\n",
    "          colors[key])"
   ]
  },
  {
   "cell_type": "markdown",
   "metadata": {},
   "source": [
    "#### With \n",
    "\n",
    "Content managers"
   ]
  },
  {
   "cell_type": "code",
   "execution_count": 31,
   "metadata": {},
   "outputs": [],
   "source": [
    "from urllib.request import urlopen\n",
    "with urlopen(\"http://humanstxt.org/humans.txt\") as story:\n",
    "    story_words = []\n",
    "    for line in story:\n",
    "        line_word = line.split()\n",
    "        for word in line_word:\n",
    "            story_words.append(word)"
   ]
  },
  {
   "cell_type": "markdown",
   "metadata": {},
   "source": [
    "Retrieving `story_words` transfer raw bytes from the network so we can change it"
   ]
  },
  {
   "cell_type": "code",
   "execution_count": 32,
   "metadata": {},
   "outputs": [
    {
     "data": {
      "text/plain": [
       "[b'\\xef\\xbb\\xbf/*',\n",
       " b'TEAM',\n",
       " b'*/',\n",
       " b'Chef:Juanjo',\n",
       " b'Bernabeu',\n",
       " b'Contact:',\n",
       " b'hello',\n",
       " b'[at]',\n",
       " b'humanstxt.org',\n",
       " b'Twitter:',\n",
       " b'@juanjobernabeu',\n",
       " b'From:Barcelona,',\n",
       " b'Catalonia,',\n",
       " b'Spain',\n",
       " b'UI',\n",
       " b'developer:',\n",
       " b'Maria',\n",
       " b'Macias',\n",
       " b'Twitter:',\n",
       " b'@maria_ux',\n",
       " b'From:Barcelona,',\n",
       " b'Catalonia,',\n",
       " b'Spain',\n",
       " b'One',\n",
       " b'eyed',\n",
       " b'illustrator:',\n",
       " b'Carlos',\n",
       " b'Ma\\xc3\\xb1as',\n",
       " b'Twitter:',\n",
       " b'@oneeyedman',\n",
       " b'From:Madrid,',\n",
       " b'Spain',\n",
       " b'Standard',\n",
       " b'Man:',\n",
       " b'Abel',\n",
       " b'Cabans',\n",
       " b'Twitter:',\n",
       " b'@abelcabans',\n",
       " b'From:Barcelona,',\n",
       " b'Catalonia,',\n",
       " b'Spain',\n",
       " b'Web',\n",
       " b'designer:',\n",
       " b'Abel',\n",
       " b'Sutilo',\n",
       " b'Twitter:',\n",
       " b'@abelsutilo',\n",
       " b'From:Sevilla,',\n",
       " b'Andalucia,',\n",
       " b'Spain',\n",
       " b'/*',\n",
       " b'THANKS',\n",
       " b'*/',\n",
       " b'(First)',\n",
       " b'EN',\n",
       " b'Translator:',\n",
       " b'Jos',\n",
       " b'Flores',\n",
       " b'Twitter:',\n",
       " b'@prosciuttos',\n",
       " b'From:',\n",
       " b'Barcelona,',\n",
       " b'Catalonia,',\n",
       " b'Spain',\n",
       " b'CA',\n",
       " b'Translator:',\n",
       " b'Eva',\n",
       " b'AC',\n",
       " b'Twitter:',\n",
       " b'@evaac',\n",
       " b'From:Barcelona,',\n",
       " b'Catalonia,',\n",
       " b'Spain',\n",
       " b'EN',\n",
       " b'Translator:',\n",
       " b'Marta',\n",
       " b'Armada',\n",
       " b'Twitter:',\n",
       " b'@martuishere',\n",
       " b'From:',\n",
       " b'Barcelona,',\n",
       " b'Catalonia,',\n",
       " b'Spain',\n",
       " b'RU',\n",
       " b'Translator:',\n",
       " b'Alexey',\n",
       " b'Bass',\n",
       " b'Twitter:',\n",
       " b'@alexey_bass',\n",
       " b'Location:',\n",
       " b'Israel,',\n",
       " b'Netanya',\n",
       " b'RU',\n",
       " b'Translator:',\n",
       " b'Vladimir',\n",
       " b'Epifanov',\n",
       " b'Twitter:',\n",
       " b'@voldmar',\n",
       " b'Location:',\n",
       " b'Moscow,',\n",
       " b'Russia',\n",
       " b'NL',\n",
       " b'Translator:',\n",
       " b'Rowdy',\n",
       " b'Rabouw',\n",
       " b'Twitter:',\n",
       " b'@rowdyrabouw',\n",
       " b'Location:',\n",
       " b'Gouda,',\n",
       " b'The',\n",
       " b'Netherlands',\n",
       " b'DE',\n",
       " b'Translator:',\n",
       " b'Dennis',\n",
       " b'Fischer',\n",
       " b'Twitter:',\n",
       " b'@ichderfisch',\n",
       " b'Location:',\n",
       " b'D\\xc3\\xbcsseldorf',\n",
       " b'/',\n",
       " b'Germany',\n",
       " b'CZ',\n",
       " b'Translator:',\n",
       " b'Daniel',\n",
       " b'Kr\\xc5\\xa1iak',\n",
       " b'Twitter:',\n",
       " b'@krsiakdaniel',\n",
       " b'Location:',\n",
       " b'Czech',\n",
       " b'Republic',\n",
       " b'ZH',\n",
       " b'Translator:',\n",
       " b'Ana',\n",
       " b'Villalba',\n",
       " b'Location:',\n",
       " b'Spain',\n",
       " b'JA',\n",
       " b'Translator:',\n",
       " b'Cl\\xc3\\xa9mence',\n",
       " b'Haure',\n",
       " b'Location:',\n",
       " b'Spain',\n",
       " b'FR',\n",
       " b'Translator:',\n",
       " b'Thibaud',\n",
       " b'Desodt',\n",
       " b'Location:',\n",
       " b'Belgium',\n",
       " b'Media',\n",
       " b'Queries',\n",
       " b'by:',\n",
       " b'Marta',\n",
       " b'Armada',\n",
       " b'(@martuishere)',\n",
       " b'and',\n",
       " b'Javier',\n",
       " b'Usobiaga',\n",
       " b'(@htmlboy)',\n",
       " b'/*',\n",
       " b'SITE',\n",
       " b'*/',\n",
       " b'Last',\n",
       " b'update:2012/02/04',\n",
       " b'Language:',\n",
       " b'Catal\\xc3\\xa0',\n",
       " b'/',\n",
       " b'Czech',\n",
       " b'/',\n",
       " b'Deutsch',\n",
       " b'/',\n",
       " b'English',\n",
       " b'/',\n",
       " b'Castellano',\n",
       " b'/',\n",
       " b'Japanese',\n",
       " b'/',\n",
       " b'Dutch',\n",
       " b'/',\n",
       " b'Russian',\n",
       " b'/',\n",
       " b'Chinese',\n",
       " b'Doctype:HTML5',\n",
       " b'IDE:',\n",
       " b'Sublime',\n",
       " b'Text,',\n",
       " b'Notepad++,',\n",
       " b'FileZilla,',\n",
       " b'Photoshop']"
      ]
     },
     "execution_count": 32,
     "metadata": {},
     "output_type": "execute_result"
    }
   ],
   "source": [
    "story_words"
   ]
  },
  {
   "cell_type": "code",
   "execution_count": 33,
   "metadata": {},
   "outputs": [
    {
     "data": {
      "text/plain": [
       "['\\ufeff/*',\n",
       " 'TEAM',\n",
       " '*/',\n",
       " 'Chef:Juanjo',\n",
       " 'Bernabeu',\n",
       " 'Contact:',\n",
       " 'hello',\n",
       " '[at]',\n",
       " 'humanstxt.org',\n",
       " 'Twitter:',\n",
       " '@juanjobernabeu',\n",
       " 'From:Barcelona,',\n",
       " 'Catalonia,',\n",
       " 'Spain',\n",
       " 'UI',\n",
       " 'developer:',\n",
       " 'Maria',\n",
       " 'Macias',\n",
       " 'Twitter:',\n",
       " '@maria_ux',\n",
       " 'From:Barcelona,',\n",
       " 'Catalonia,',\n",
       " 'Spain',\n",
       " 'One',\n",
       " 'eyed',\n",
       " 'illustrator:',\n",
       " 'Carlos',\n",
       " 'Mañas',\n",
       " 'Twitter:',\n",
       " '@oneeyedman',\n",
       " 'From:Madrid,',\n",
       " 'Spain',\n",
       " 'Standard',\n",
       " 'Man:',\n",
       " 'Abel',\n",
       " 'Cabans',\n",
       " 'Twitter:',\n",
       " '@abelcabans',\n",
       " 'From:Barcelona,',\n",
       " 'Catalonia,',\n",
       " 'Spain',\n",
       " 'Web',\n",
       " 'designer:',\n",
       " 'Abel',\n",
       " 'Sutilo',\n",
       " 'Twitter:',\n",
       " '@abelsutilo',\n",
       " 'From:Sevilla,',\n",
       " 'Andalucia,',\n",
       " 'Spain',\n",
       " '/*',\n",
       " 'THANKS',\n",
       " '*/',\n",
       " '(First)',\n",
       " 'EN',\n",
       " 'Translator:',\n",
       " 'Jos',\n",
       " 'Flores',\n",
       " 'Twitter:',\n",
       " '@prosciuttos',\n",
       " 'From:',\n",
       " 'Barcelona,',\n",
       " 'Catalonia,',\n",
       " 'Spain',\n",
       " 'CA',\n",
       " 'Translator:',\n",
       " 'Eva',\n",
       " 'AC',\n",
       " 'Twitter:',\n",
       " '@evaac',\n",
       " 'From:Barcelona,',\n",
       " 'Catalonia,',\n",
       " 'Spain',\n",
       " 'EN',\n",
       " 'Translator:',\n",
       " 'Marta',\n",
       " 'Armada',\n",
       " 'Twitter:',\n",
       " '@martuishere',\n",
       " 'From:',\n",
       " 'Barcelona,',\n",
       " 'Catalonia,',\n",
       " 'Spain',\n",
       " 'RU',\n",
       " 'Translator:',\n",
       " 'Alexey',\n",
       " 'Bass',\n",
       " 'Twitter:',\n",
       " '@alexey_bass',\n",
       " 'Location:',\n",
       " 'Israel,',\n",
       " 'Netanya',\n",
       " 'RU',\n",
       " 'Translator:',\n",
       " 'Vladimir',\n",
       " 'Epifanov',\n",
       " 'Twitter:',\n",
       " '@voldmar',\n",
       " 'Location:',\n",
       " 'Moscow,',\n",
       " 'Russia',\n",
       " 'NL',\n",
       " 'Translator:',\n",
       " 'Rowdy',\n",
       " 'Rabouw',\n",
       " 'Twitter:',\n",
       " '@rowdyrabouw',\n",
       " 'Location:',\n",
       " 'Gouda,',\n",
       " 'The',\n",
       " 'Netherlands',\n",
       " 'DE',\n",
       " 'Translator:',\n",
       " 'Dennis',\n",
       " 'Fischer',\n",
       " 'Twitter:',\n",
       " '@ichderfisch',\n",
       " 'Location:',\n",
       " 'Düsseldorf',\n",
       " '/',\n",
       " 'Germany',\n",
       " 'CZ',\n",
       " 'Translator:',\n",
       " 'Daniel',\n",
       " 'Kršiak',\n",
       " 'Twitter:',\n",
       " '@krsiakdaniel',\n",
       " 'Location:',\n",
       " 'Czech',\n",
       " 'Republic',\n",
       " 'ZH',\n",
       " 'Translator:',\n",
       " 'Ana',\n",
       " 'Villalba',\n",
       " 'Location:',\n",
       " 'Spain',\n",
       " 'JA',\n",
       " 'Translator:',\n",
       " 'Clémence',\n",
       " 'Haure',\n",
       " 'Location:',\n",
       " 'Spain',\n",
       " 'FR',\n",
       " 'Translator:',\n",
       " 'Thibaud',\n",
       " 'Desodt',\n",
       " 'Location:',\n",
       " 'Belgium',\n",
       " 'Media',\n",
       " 'Queries',\n",
       " 'by:',\n",
       " 'Marta',\n",
       " 'Armada',\n",
       " '(@martuishere)',\n",
       " 'and',\n",
       " 'Javier',\n",
       " 'Usobiaga',\n",
       " '(@htmlboy)',\n",
       " '/*',\n",
       " 'SITE',\n",
       " '*/',\n",
       " 'Last',\n",
       " 'update:2012/02/04',\n",
       " 'Language:',\n",
       " 'Català',\n",
       " '/',\n",
       " 'Czech',\n",
       " '/',\n",
       " 'Deutsch',\n",
       " '/',\n",
       " 'English',\n",
       " '/',\n",
       " 'Castellano',\n",
       " '/',\n",
       " 'Japanese',\n",
       " '/',\n",
       " 'Dutch',\n",
       " '/',\n",
       " 'Russian',\n",
       " '/',\n",
       " 'Chinese',\n",
       " 'Doctype:HTML5',\n",
       " 'IDE:',\n",
       " 'Sublime',\n",
       " 'Text,',\n",
       " 'Notepad++,',\n",
       " 'FileZilla,',\n",
       " 'Photoshop']"
      ]
     },
     "execution_count": 33,
     "metadata": {},
     "output_type": "execute_result"
    }
   ],
   "source": [
    "[i.decode(\"utf-8\") for i in story_words]"
   ]
  },
  {
   "cell_type": "markdown",
   "metadata": {},
   "source": [
    "### Modules\n"
   ]
  },
  {
   "cell_type": "code",
   "execution_count": 34,
   "metadata": {},
   "outputs": [
    {
     "name": "stdout",
     "output_type": "stream",
     "text": [
      "The Zen of Python, by Tim Peters\n",
      "\n",
      "Beautiful is better than ugly.\n",
      "Explicit is better than implicit.\n",
      "Simple is better than complex.\n",
      "Complex is better than complicated.\n",
      "Flat is better than nested.\n",
      "Sparse is better than dense.\n",
      "Readability counts.\n",
      "Special cases aren't special enough to break the rules.\n",
      "Although practicality beats purity.\n",
      "Errors should never pass silently.\n",
      "Unless explicitly silenced.\n",
      "In the face of ambiguity, refuse the temptation to guess.\n",
      "There should be one-- and preferably only one --obvious way to do it.\n",
      "Although that way may not be obvious at first unless you're Dutch.\n",
      "Now is better than never.\n",
      "Although never is often better than *right* now.\n",
      "If the implementation is hard to explain, it's a bad idea.\n",
      "If the implementation is easy to explain, it may be a good idea.\n",
      "Namespaces are one honking great idea -- let's do more of those!\n"
     ]
    }
   ],
   "source": [
    "import this"
   ]
  },
  {
   "cell_type": "code",
   "execution_count": 35,
   "metadata": {},
   "outputs": [],
   "source": [
    "def even_or_odd(n):\n",
    "    if n%2 == 0:\n",
    "        print('Even')\n",
    "    else: \n",
    "        print('Odd')"
   ]
  },
  {
   "cell_type": "code",
   "execution_count": 36,
   "metadata": {},
   "outputs": [
    {
     "name": "stdout",
     "output_type": "stream",
     "text": [
      "Odd\n"
     ]
    }
   ],
   "source": [
    "even_or_odd(3)"
   ]
  },
  {
   "cell_type": "markdown",
   "metadata": {},
   "source": [
    "In general everything in python is better if it is modular for that consider \n",
    "* Creatig a `main()` sequence that is executed by calling `python my_module`\n",
    "* Split multiple functionalities in functions that you may use either in your `main()` function or if you import into the console \n",
    "* Create a shebang so you can run your code from console. For that:\n",
    "  1. Aggregate the interpreter `#!/usr/bin/env python3`\n",
    "  2. Consider before `chmod +x my_module.py`\n",
    "  \n",
    "  \n",
    "As an example check the module `words.py`"
   ]
  },
  {
   "cell_type": "code",
   "execution_count": 2,
   "metadata": {},
   "outputs": [
    {
     "data": {
      "text/plain": [
       "'words'"
      ]
     },
     "execution_count": 2,
     "metadata": {},
     "output_type": "execute_result"
    }
   ],
   "source": [
    "import words as wd\n",
    "wd.__name__"
   ]
  },
  {
   "cell_type": "markdown",
   "metadata": {},
   "source": [
    "### Objects\n",
    "\n",
    "The basic reference in Python"
   ]
  },
  {
   "cell_type": "code",
   "execution_count": 46,
   "metadata": {},
   "outputs": [
    {
     "data": {
      "text/plain": [
       "4428889968"
      ]
     },
     "execution_count": 46,
     "metadata": {},
     "output_type": "execute_result"
    }
   ],
   "source": [
    "a = 496\n",
    "id(a)"
   ]
  },
  {
   "cell_type": "code",
   "execution_count": 47,
   "metadata": {},
   "outputs": [
    {
     "data": {
      "text/plain": [
       "4428890032"
      ]
     },
     "execution_count": 47,
     "metadata": {},
     "output_type": "execute_result"
    }
   ],
   "source": [
    "b = 1749\n",
    "id(b)"
   ]
  },
  {
   "cell_type": "code",
   "execution_count": 48,
   "metadata": {},
   "outputs": [
    {
     "data": {
      "text/plain": [
       "True"
      ]
     },
     "execution_count": 48,
     "metadata": {},
     "output_type": "execute_result"
    }
   ],
   "source": [
    "b = a\n",
    "id(a) == id(b)"
   ]
  },
  {
   "cell_type": "code",
   "execution_count": 49,
   "metadata": {},
   "outputs": [
    {
     "data": {
      "text/plain": [
       "True"
      ]
     },
     "execution_count": 49,
     "metadata": {},
     "output_type": "execute_result"
    }
   ],
   "source": [
    "a is b"
   ]
  },
  {
   "cell_type": "code",
   "execution_count": 50,
   "metadata": {},
   "outputs": [
    {
     "data": {
      "text/plain": [
       "False"
      ]
     },
     "execution_count": 50,
     "metadata": {},
     "output_type": "execute_result"
    }
   ],
   "source": [
    "a is None"
   ]
  },
  {
   "cell_type": "code",
   "execution_count": 55,
   "metadata": {},
   "outputs": [
    {
     "name": "stdout",
     "output_type": "stream",
     "text": [
      "4380235952\n",
      "4380235856\n"
     ]
    }
   ],
   "source": [
    "n = 2 \n",
    "m = n+3\n",
    "print(id(m)) # Pointer\n",
    "print(id(n))"
   ]
  },
  {
   "cell_type": "code",
   "execution_count": 57,
   "metadata": {},
   "outputs": [
    {
     "name": "stdout",
     "output_type": "stream",
     "text": [
      "[1, 2, 3, 4]\n",
      "[1, 2, 3, 4]\n"
     ]
    }
   ],
   "source": [
    "# Compare with example down below\n",
    "x = [1, 2, 3]\n",
    "y = x \n",
    "x.append(4)\n",
    "print(x)\n",
    "print(y)"
   ]
  },
  {
   "cell_type": "code",
   "execution_count": 58,
   "metadata": {},
   "outputs": [
    {
     "name": "stdout",
     "output_type": "stream",
     "text": [
      "4428939464\n",
      "4428929928\n"
     ]
    }
   ],
   "source": [
    "c = [4, 5, 6]\n",
    "d = c + [7, 8] # + opperator computes and renew the pointer of d\n",
    "print(id(c))\n",
    "print(id(d))"
   ]
  },
  {
   "cell_type": "code",
   "execution_count": 59,
   "metadata": {},
   "outputs": [
    {
     "name": "stdout",
     "output_type": "stream",
     "text": [
      "[1, 2, 3, 4]\n",
      "[1, 2, 3]\n"
     ]
    }
   ],
   "source": [
    "x = [1, 2, 3]\n",
    "y = x + [] # This will redirect the pointer\n",
    "x.append(4)\n",
    "print(x)\n",
    "print(y)"
   ]
  },
  {
   "cell_type": "code",
   "execution_count": 60,
   "metadata": {},
   "outputs": [
    {
     "name": "stdout",
     "output_type": "stream",
     "text": [
      "True\n",
      "False\n"
     ]
    }
   ],
   "source": [
    "a = [1, 2, 3]\n",
    "b = [1, 2 ,3]\n",
    "print(a == b)\n",
    "print(a is b) # Check pointer equivalence"
   ]
  },
  {
   "cell_type": "code",
   "execution_count": 72,
   "metadata": {},
   "outputs": [
    {
     "name": "stdout",
     "output_type": "stream",
     "text": [
      "[1, 2, 3, 4]\n",
      "[1, 2, 3]\n"
     ]
    }
   ],
   "source": [
    "f = [1, 2, 3]\n",
    "g = f[:]\n",
    "f.append(4)\n",
    "print(f)\n",
    "print(g)"
   ]
  },
  {
   "cell_type": "code",
   "execution_count": 73,
   "metadata": {},
   "outputs": [
    {
     "data": {
      "text/plain": [
       "'Sat Feb 17 17:31:24 2018'"
      ]
     },
     "execution_count": 73,
     "metadata": {},
     "output_type": "execute_result"
    }
   ],
   "source": [
    "import time\n",
    "time.ctime()"
   ]
  },
  {
   "cell_type": "code",
   "execution_count": 75,
   "metadata": {},
   "outputs": [
    {
     "name": "stdout",
     "output_type": "stream",
     "text": [
      "Sat Feb 17 17:32:20 2018\n"
     ]
    }
   ],
   "source": [
    "def show_default(arg = time.ctime()):\n",
    "    print(arg)\n",
    "show_default()"
   ]
  },
  {
   "cell_type": "code",
   "execution_count": 76,
   "metadata": {},
   "outputs": [
    {
     "name": "stdout",
     "output_type": "stream",
     "text": [
      "Sat Feb 17 17:32:20 2018\n"
     ]
    }
   ],
   "source": [
    "show_default()"
   ]
  },
  {
   "cell_type": "code",
   "execution_count": 77,
   "metadata": {},
   "outputs": [
    {
     "data": {
      "text/plain": [
       "['spam']"
      ]
     },
     "execution_count": 77,
     "metadata": {},
     "output_type": "execute_result"
    }
   ],
   "source": [
    "def add_spam(menu = []):\n",
    "    menu.append('spam')\n",
    "    return menu\n",
    "add_spam()"
   ]
  },
  {
   "cell_type": "code",
   "execution_count": 78,
   "metadata": {},
   "outputs": [
    {
     "data": {
      "text/plain": [
       "['spam', 'spam']"
      ]
     },
     "execution_count": 78,
     "metadata": {},
     "output_type": "execute_result"
    }
   ],
   "source": [
    "add_spam()"
   ]
  },
  {
   "cell_type": "markdown",
   "metadata": {},
   "source": [
    "In the previous case since `[]` is not immutable. the default list is created when the `def` statement is executed. Since we modify the list inside the function `menu.append('spam')` then this argument is never modified. \n",
    "\n",
    "**Default arguments in a function are executed once when `def` is executed**"
   ]
  },
  {
   "cell_type": "code",
   "execution_count": 79,
   "metadata": {},
   "outputs": [
    {
     "data": {
      "text/plain": [
       "['spam']"
      ]
     },
     "execution_count": 79,
     "metadata": {},
     "output_type": "execute_result"
    }
   ],
   "source": [
    "def add_spam(menu = None): # Use immutables\n",
    "    if menu is None:\n",
    "        menu = []\n",
    "    menu.append(\"spam\")\n",
    "    return menu\n",
    "add_spam()"
   ]
  },
  {
   "cell_type": "code",
   "execution_count": 80,
   "metadata": {},
   "outputs": [
    {
     "data": {
      "text/plain": [
       "['spam']"
      ]
     },
     "execution_count": 80,
     "metadata": {},
     "output_type": "execute_result"
    }
   ],
   "source": [
    "add_spam()"
   ]
  },
  {
   "cell_type": "markdown",
   "metadata": {},
   "source": [
    "**L**ocal\n",
    "**E**nclosing\n",
    "**G**lobal\n",
    "**B**uiltin"
   ]
  },
  {
   "cell_type": "code",
   "execution_count": 85,
   "metadata": {},
   "outputs": [],
   "source": [
    "def operate_x(x):\n",
    "    def add(a):\n",
    "        print(x)\n",
    "        return x+a # a is Local, x is Enclosing\n",
    "    return add(3)"
   ]
  },
  {
   "cell_type": "code",
   "execution_count": 86,
   "metadata": {},
   "outputs": [
    {
     "name": "stdout",
     "output_type": "stream",
     "text": [
      "2\n"
     ]
    },
    {
     "data": {
      "text/plain": [
       "5"
      ]
     },
     "execution_count": 86,
     "metadata": {},
     "output_type": "execute_result"
    }
   ],
   "source": [
    "x = operate_x(2)\n",
    "x"
   ]
  },
  {
   "cell_type": "code",
   "execution_count": 87,
   "metadata": {},
   "outputs": [
    {
     "data": {
      "text/plain": [
       "['__abs__',\n",
       " '__add__',\n",
       " '__and__',\n",
       " '__bool__',\n",
       " '__ceil__',\n",
       " '__class__',\n",
       " '__delattr__',\n",
       " '__dir__',\n",
       " '__divmod__',\n",
       " '__doc__',\n",
       " '__eq__',\n",
       " '__float__',\n",
       " '__floor__',\n",
       " '__floordiv__',\n",
       " '__format__',\n",
       " '__ge__',\n",
       " '__getattribute__',\n",
       " '__getnewargs__',\n",
       " '__gt__',\n",
       " '__hash__',\n",
       " '__index__',\n",
       " '__init__',\n",
       " '__init_subclass__',\n",
       " '__int__',\n",
       " '__invert__',\n",
       " '__le__',\n",
       " '__lshift__',\n",
       " '__lt__',\n",
       " '__mod__',\n",
       " '__mul__',\n",
       " '__ne__',\n",
       " '__neg__',\n",
       " '__new__',\n",
       " '__or__',\n",
       " '__pos__',\n",
       " '__pow__',\n",
       " '__radd__',\n",
       " '__rand__',\n",
       " '__rdivmod__',\n",
       " '__reduce__',\n",
       " '__reduce_ex__',\n",
       " '__repr__',\n",
       " '__rfloordiv__',\n",
       " '__rlshift__',\n",
       " '__rmod__',\n",
       " '__rmul__',\n",
       " '__ror__',\n",
       " '__round__',\n",
       " '__rpow__',\n",
       " '__rrshift__',\n",
       " '__rshift__',\n",
       " '__rsub__',\n",
       " '__rtruediv__',\n",
       " '__rxor__',\n",
       " '__setattr__',\n",
       " '__sizeof__',\n",
       " '__str__',\n",
       " '__sub__',\n",
       " '__subclasshook__',\n",
       " '__truediv__',\n",
       " '__trunc__',\n",
       " '__xor__',\n",
       " 'bit_length',\n",
       " 'conjugate',\n",
       " 'denominator',\n",
       " 'from_bytes',\n",
       " 'imag',\n",
       " 'numerator',\n",
       " 'real',\n",
       " 'to_bytes']"
      ]
     },
     "execution_count": 87,
     "metadata": {},
     "output_type": "execute_result"
    }
   ],
   "source": [
    "dir(x)"
   ]
  },
  {
   "cell_type": "markdown",
   "metadata": {},
   "source": [
    "### Collections\n",
    "\n",
    "Tuples, strings, ranges, lists, shallow copies, list repetitions\n",
    "\n",
    "#### Tuples"
   ]
  },
  {
   "cell_type": "code",
   "execution_count": 3,
   "metadata": {},
   "outputs": [
    {
     "data": {
      "text/plain": [
       "('Norway', 4.9523, 3)"
      ]
     },
     "execution_count": 3,
     "metadata": {},
     "output_type": "execute_result"
    }
   ],
   "source": [
    "t = (\"Norway\", 4.9523, 3)\n",
    "t"
   ]
  },
  {
   "cell_type": "code",
   "execution_count": 4,
   "metadata": {},
   "outputs": [
    {
     "data": {
      "text/plain": [
       "'Norway'"
      ]
     },
     "execution_count": 4,
     "metadata": {},
     "output_type": "execute_result"
    }
   ],
   "source": [
    "t[0]"
   ]
  },
  {
   "cell_type": "code",
   "execution_count": 6,
   "metadata": {},
   "outputs": [
    {
     "data": {
      "text/plain": [
       "3"
      ]
     },
     "execution_count": 6,
     "metadata": {},
     "output_type": "execute_result"
    }
   ],
   "source": [
    "len(t)"
   ]
  },
  {
   "cell_type": "code",
   "execution_count": 7,
   "metadata": {},
   "outputs": [
    {
     "name": "stdout",
     "output_type": "stream",
     "text": [
      "('Norway', 4.9523, 3)\n",
      "('Norway', 4.9523, 3)\n",
      "('Norway', 4.9523, 3)\n"
     ]
    }
   ],
   "source": [
    "for item in t:\n",
    "    print(t)"
   ]
  },
  {
   "cell_type": "code",
   "execution_count": 8,
   "metadata": {},
   "outputs": [
    {
     "data": {
      "text/plain": [
       "('Norway', 4.9523, 3, 'Norway', 4.9523, 3)"
      ]
     },
     "execution_count": 8,
     "metadata": {},
     "output_type": "execute_result"
    }
   ],
   "source": [
    "t*2"
   ]
  },
  {
   "cell_type": "code",
   "execution_count": 11,
   "metadata": {},
   "outputs": [
    {
     "data": {
      "text/plain": [
       "('Norway', 4.9523, 3, 3, 5)"
      ]
     },
     "execution_count": 11,
     "metadata": {},
     "output_type": "execute_result"
    }
   ],
   "source": [
    "# Are tuples really immutable?\n",
    "t+(3, 5)"
   ]
  },
  {
   "cell_type": "code",
   "execution_count": 16,
   "metadata": {},
   "outputs": [
    {
     "data": {
      "text/plain": [
       "('Norway', 4.9523, 3, 3)"
      ]
     },
     "execution_count": 16,
     "metadata": {},
     "output_type": "execute_result"
    }
   ],
   "source": [
    "# We need an iterable to be added.\n",
    "t + tuple([3])"
   ]
  },
  {
   "cell_type": "code",
   "execution_count": 18,
   "metadata": {},
   "outputs": [],
   "source": [
    "coor = ((0,1),(10,9))"
   ]
  },
  {
   "cell_type": "code",
   "execution_count": 19,
   "metadata": {},
   "outputs": [
    {
     "data": {
      "text/plain": [
       "1"
      ]
     },
     "execution_count": 19,
     "metadata": {},
     "output_type": "execute_result"
    }
   ],
   "source": [
    "coor[0][1]"
   ]
  },
  {
   "cell_type": "code",
   "execution_count": 21,
   "metadata": {},
   "outputs": [
    {
     "name": "stdout",
     "output_type": "stream",
     "text": [
      "<class 'int'>\n",
      "<class 'tuple'>\n"
     ]
    }
   ],
   "source": [
    "k =(1)\n",
    "print(type(k))\n",
    "k = (1,)\n",
    "print(type(k))"
   ]
  },
  {
   "cell_type": "code",
   "execution_count": 23,
   "metadata": {},
   "outputs": [
    {
     "data": {
      "text/plain": [
       "(1, 2, 3, 4)"
      ]
     },
     "execution_count": 23,
     "metadata": {},
     "output_type": "execute_result"
    }
   ],
   "source": [
    "multiple_vals =1, 2, 3, 4\n",
    "multiple_vals"
   ]
  },
  {
   "cell_type": "code",
   "execution_count": 25,
   "metadata": {},
   "outputs": [
    {
     "name": "stdout",
     "output_type": "stream",
     "text": [
      "1\n",
      "4\n"
     ]
    }
   ],
   "source": [
    "# Tupple unpacking\n",
    "(a,(b,(c,d)))=(1,(2,(3,4)))\n",
    "print(a)\n",
    "print(d)"
   ]
  },
  {
   "cell_type": "code",
   "execution_count": 27,
   "metadata": {},
   "outputs": [
    {
     "name": "stdout",
     "output_type": "stream",
     "text": [
      "a value is:  soy b\n",
      "b value is:  soy a\n"
     ]
    }
   ],
   "source": [
    "a = 'soy a'\n",
    "b = 'soy b'\n",
    "a, b = b, a\n",
    "print('a value is: ', a)\n",
    "print('b value is: ', b)"
   ]
  },
  {
   "cell_type": "code",
   "execution_count": 28,
   "metadata": {},
   "outputs": [
    {
     "data": {
      "text/plain": [
       "True"
      ]
     },
     "execution_count": 28,
     "metadata": {},
     "output_type": "execute_result"
    }
   ],
   "source": [
    "5 in (3, 5, 18)"
   ]
  },
  {
   "cell_type": "markdown",
   "metadata": {},
   "source": [
    "#### Strings"
   ]
  },
  {
   "cell_type": "code",
   "execution_count": 30,
   "metadata": {},
   "outputs": [
    {
     "data": {
      "text/plain": [
       "15"
      ]
     },
     "execution_count": 30,
     "metadata": {},
     "output_type": "execute_result"
    }
   ],
   "source": [
    "len(\"Hola soy andres\")"
   ]
  },
  {
   "cell_type": "code",
   "execution_count": 32,
   "metadata": {},
   "outputs": [
    {
     "data": {
      "text/plain": [
       "'Hola soy andres'"
      ]
     },
     "execution_count": 32,
     "metadata": {},
     "output_type": "execute_result"
    }
   ],
   "source": [
    "\"Hola \"+\"soy \"+\"andres\""
   ]
  },
  {
   "cell_type": "code",
   "execution_count": 35,
   "metadata": {},
   "outputs": [
    {
     "data": {
      "text/plain": [
       "'Hola soy andres'"
      ]
     },
     "execution_count": 35,
     "metadata": {},
     "output_type": "execute_result"
    }
   ],
   "source": [
    "\" \".join([\"Hola\",\"soy\",\"andres\"])"
   ]
  },
  {
   "cell_type": "code",
   "execution_count": 36,
   "metadata": {},
   "outputs": [
    {
     "data": {
      "text/plain": [
       "['Hola', 'soy', 'andres']"
      ]
     },
     "execution_count": 36,
     "metadata": {},
     "output_type": "execute_result"
    }
   ],
   "source": [
    "_.split()"
   ]
  },
  {
   "cell_type": "code",
   "execution_count": 39,
   "metadata": {},
   "outputs": [
    {
     "data": {
      "text/plain": [
       "'superball'"
      ]
     },
     "execution_count": 39,
     "metadata": {},
     "output_type": "execute_result"
    }
   ],
   "source": [
    "# This is better \n",
    "\"\".join(['super','ball'])\n",
    "#than \n",
    "'super'+'ball'"
   ]
  },
  {
   "cell_type": "code",
   "execution_count": 40,
   "metadata": {},
   "outputs": [
    {
     "data": {
      "text/plain": [
       "('in', 'soportable', '')"
      ]
     },
     "execution_count": 40,
     "metadata": {},
     "output_type": "execute_result"
    }
   ],
   "source": [
    "\"insoportable\".partition(\"soportable\") # Check for a word"
   ]
  },
  {
   "cell_type": "code",
   "execution_count": 42,
   "metadata": {},
   "outputs": [
    {
     "name": "stdout",
     "output_type": "stream",
     "text": [
      "soportable\n"
     ]
    }
   ],
   "source": [
    "(a, b, c) = \"insoportable\".partition(\"soportable\")\n",
    "print(b)"
   ]
  },
  {
   "cell_type": "code",
   "execution_count": 49,
   "metadata": {},
   "outputs": [
    {
     "name": "stdout",
     "output_type": "stream",
     "text": [
      "hola mundo\n"
     ]
    }
   ],
   "source": [
    "a, _, c = \"hola-mundo\".partition(\"-\")\n",
    "print(a, c)"
   ]
  },
  {
   "cell_type": "code",
   "execution_count": 54,
   "metadata": {},
   "outputs": [
    {
     "name": "stdout",
     "output_type": "stream",
     "text": [
      "The age of andres is 20\n",
      "The age of andres is 20\n",
      "The age of andres is 20\n",
      "The age of andres is 20\n"
     ]
    }
   ],
   "source": [
    "name = 'andres'\n",
    "age = 20\n",
    "print(f'The age of {name} is {age}')\n",
    "print('The age of {} is {}'.format(name, age))\n",
    "print('The age of {0} is {1}'.format(name, age))\n",
    "print('The age of {name} is {age}'.format(name = name, age= age))"
   ]
  },
  {
   "cell_type": "markdown",
   "metadata": {},
   "source": [
    "#### Range\n",
    "\n",
    "Aritmetic progressions"
   ]
  },
  {
   "cell_type": "code",
   "execution_count": 55,
   "metadata": {},
   "outputs": [
    {
     "data": {
      "text/plain": [
       "range(0, 5)"
      ]
     },
     "execution_count": 55,
     "metadata": {},
     "output_type": "execute_result"
    }
   ],
   "source": [
    "range(5)"
   ]
  },
  {
   "cell_type": "code",
   "execution_count": 56,
   "metadata": {},
   "outputs": [
    {
     "name": "stdout",
     "output_type": "stream",
     "text": [
      "0\n",
      "1\n",
      "2\n",
      "3\n",
      "4\n"
     ]
    }
   ],
   "source": [
    "for i in range(5):\n",
    "    print(i)"
   ]
  },
  {
   "cell_type": "code",
   "execution_count": 57,
   "metadata": {},
   "outputs": [
    {
     "data": {
      "text/plain": [
       "range(5, 10)"
      ]
     },
     "execution_count": 57,
     "metadata": {},
     "output_type": "execute_result"
    }
   ],
   "source": [
    "range(5, 10 )"
   ]
  },
  {
   "cell_type": "code",
   "execution_count": 58,
   "metadata": {},
   "outputs": [
    {
     "data": {
      "text/plain": [
       "[5, 6, 7, 8, 9]"
      ]
     },
     "execution_count": 58,
     "metadata": {},
     "output_type": "execute_result"
    }
   ],
   "source": [
    "list(range(5, 10))"
   ]
  },
  {
   "cell_type": "code",
   "execution_count": 61,
   "metadata": {},
   "outputs": [
    {
     "data": {
      "text/plain": [
       "[5, 7, 9]"
      ]
     },
     "execution_count": 61,
     "metadata": {},
     "output_type": "execute_result"
    }
   ],
   "source": [
    "list(range(5, 10, 2))"
   ]
  },
  {
   "cell_type": "code",
   "execution_count": 62,
   "metadata": {},
   "outputs": [
    {
     "name": "stdout",
     "output_type": "stream",
     "text": [
      "(0, 10)\n",
      "(1, 100)\n",
      "(2, 1000)\n",
      "(3, 10000)\n"
     ]
    }
   ],
   "source": [
    "t = [10, 100 , 1000, 10000]\n",
    "for p in enumerate(t):\n",
    "    print(p)"
   ]
  },
  {
   "cell_type": "markdown",
   "metadata": {},
   "source": [
    "#### Lists\n",
    "\n",
    "List and special things"
   ]
  },
  {
   "cell_type": "code",
   "execution_count": 64,
   "metadata": {},
   "outputs": [
    {
     "data": {
      "text/plain": [
       "['show', 'how', 'to', 'index', 'into', 'sequences']"
      ]
     },
     "execution_count": 64,
     "metadata": {},
     "output_type": "execute_result"
    }
   ],
   "source": [
    "s = \"show how to index into sequences\".split()\n",
    "s"
   ]
  },
  {
   "cell_type": "code",
   "execution_count": 65,
   "metadata": {},
   "outputs": [
    {
     "data": {
      "text/plain": [
       "'show'"
      ]
     },
     "execution_count": 65,
     "metadata": {},
     "output_type": "execute_result"
    }
   ],
   "source": [
    "s[0]"
   ]
  },
  {
   "cell_type": "code",
   "execution_count": 66,
   "metadata": {},
   "outputs": [
    {
     "data": {
      "text/plain": [
       "'sequences'"
      ]
     },
     "execution_count": 66,
     "metadata": {},
     "output_type": "execute_result"
    }
   ],
   "source": [
    "s[-1]"
   ]
  },
  {
   "cell_type": "code",
   "execution_count": 68,
   "metadata": {},
   "outputs": [
    {
     "data": {
      "text/plain": [
       "['how', 'to', 'index']"
      ]
     },
     "execution_count": 68,
     "metadata": {},
     "output_type": "execute_result"
    }
   ],
   "source": [
    "s[1:4]"
   ]
  },
  {
   "cell_type": "code",
   "execution_count": 69,
   "metadata": {},
   "outputs": [
    {
     "data": {
      "text/plain": [
       "['index', 'into', 'sequences']"
      ]
     },
     "execution_count": 69,
     "metadata": {},
     "output_type": "execute_result"
    }
   ],
   "source": [
    "s[3:]"
   ]
  },
  {
   "cell_type": "code",
   "execution_count": 71,
   "metadata": {},
   "outputs": [
    {
     "data": {
      "text/plain": [
       "['show', 'how', 'to', 'index']"
      ]
     },
     "execution_count": 71,
     "metadata": {},
     "output_type": "execute_result"
    }
   ],
   "source": [
    "s[:4]"
   ]
  },
  {
   "cell_type": "code",
   "execution_count": 95,
   "metadata": {},
   "outputs": [
    {
     "data": {
      "text/plain": [
       "False"
      ]
     },
     "execution_count": 95,
     "metadata": {},
     "output_type": "execute_result"
    }
   ],
   "source": [
    "b = s[:]\n",
    "b is s"
   ]
  },
  {
   "cell_type": "code",
   "execution_count": 96,
   "metadata": {},
   "outputs": [
    {
     "data": {
      "text/plain": [
       "['show', 'how', 'to', 'index', 'into', 'sequences', 'a', 'copy']"
      ]
     },
     "execution_count": 96,
     "metadata": {},
     "output_type": "execute_result"
    }
   ],
   "source": [
    "b.append(\"a\")\n",
    "b.append(\"copy\")\n",
    "b"
   ]
  },
  {
   "cell_type": "code",
   "execution_count": 99,
   "metadata": {},
   "outputs": [
    {
     "name": "stdout",
     "output_type": "stream",
     "text": [
      "[8, 9]\n",
      "[1, 2]\n",
      "[3, 4, 5]\n",
      "[3, 4, 5]\n"
     ]
    }
   ],
   "source": [
    "# Take care of this\n",
    "a = [[1,2],[3,4]]\n",
    "b = a[:]\n",
    "a[0] = [8,9]\n",
    "print(a[0])\n",
    "print(b[0])\n",
    "a[1].append(5)\n",
    "print(a[1])\n",
    "print(b[1])"
   ]
  },
  {
   "cell_type": "markdown",
   "metadata": {},
   "source": [
    "The best way to explain the following case is via this three"
   ]
  },
  {
   "cell_type": "code",
   "execution_count": 101,
   "metadata": {},
   "outputs": [
    {
     "data": {
      "image/png": "[encoded data removed]",
      "text/plain": [
       "<IPython.core.display.Image object>"
      ]
     },
     "execution_count": 101,
     "metadata": {},
     "output_type": "execute_result"
    }
   ],
   "source": [
    "from IPython.display import Image \n",
    "\n",
    "Image(filename = 'tree_start.png')"
   ]
  },
  {
   "cell_type": "code",
   "execution_count": 103,
   "metadata": {},
   "outputs": [
    {
     "data": {
      "image/png": "[encoded data removed]",
      "text/plain": [
       "<IPython.core.display.Image object>"
      ]
     },
     "execution_count": 103,
     "metadata": {},
     "output_type": "execute_result"
    }
   ],
   "source": [
    "Image(filename = 'tree_lists.png')"
   ]
  },
  {
   "cell_type": "code",
   "execution_count": 106,
   "metadata": {},
   "outputs": [
    {
     "data": {
      "text/plain": [
       "[[1, -1], [1, -1], [1, -1]]"
      ]
     },
     "execution_count": 106,
     "metadata": {},
     "output_type": "execute_result"
    }
   ],
   "source": [
    "s = [[1,-1]]*3\n",
    "s"
   ]
  },
  {
   "cell_type": "code",
   "execution_count": 107,
   "metadata": {},
   "outputs": [
    {
     "data": {
      "text/plain": [
       "[[1, -1, 3], [1, -1, 3], [1, -1, 3]]"
      ]
     },
     "execution_count": 107,
     "metadata": {},
     "output_type": "execute_result"
    }
   ],
   "source": [
    "s[0].append(3)\n",
    "s"
   ]
  },
  {
   "cell_type": "code",
   "execution_count": 108,
   "metadata": {},
   "outputs": [
    {
     "data": {
      "image/png": "[encoded data removed]",
      "text/plain": [
       "<IPython.core.display.Image object>"
      ]
     },
     "execution_count": 108,
     "metadata": {},
     "output_type": "execute_result"
    }
   ],
   "source": [
    "Image(filename = 'list_repeat.png')"
   ]
  },
  {
   "cell_type": "code",
   "execution_count": 120,
   "metadata": {},
   "outputs": [],
   "source": [
    "s = 'andres si esta presente si si'.split()"
   ]
  },
  {
   "cell_type": "code",
   "execution_count": 121,
   "metadata": {},
   "outputs": [
    {
     "data": {
      "text/plain": [
       "0"
      ]
     },
     "execution_count": 121,
     "metadata": {},
     "output_type": "execute_result"
    }
   ],
   "source": [
    "s.index('andres')"
   ]
  },
  {
   "cell_type": "code",
   "execution_count": 122,
   "metadata": {},
   "outputs": [
    {
     "data": {
      "text/plain": [
       "1"
      ]
     },
     "execution_count": 122,
     "metadata": {},
     "output_type": "execute_result"
    }
   ],
   "source": [
    "s.index('si')"
   ]
  },
  {
   "cell_type": "code",
   "execution_count": 123,
   "metadata": {},
   "outputs": [
    {
     "data": {
      "text/plain": [
       "['andres', 'esta', 'presente', 'si', 'si']"
      ]
     },
     "execution_count": 123,
     "metadata": {},
     "output_type": "execute_result"
    }
   ],
   "source": [
    "del s[1]\n",
    "s"
   ]
  },
  {
   "cell_type": "code",
   "execution_count": 118,
   "metadata": {},
   "outputs": [
    {
     "data": {
      "text/plain": [
       "['andres', 'esta', 'presente']"
      ]
     },
     "execution_count": 118,
     "metadata": {},
     "output_type": "execute_result"
    }
   ],
   "source": [
    "s.remove('si') # Removes the last match\n",
    "s"
   ]
  },
  {
   "cell_type": "code",
   "execution_count": 124,
   "metadata": {},
   "outputs": [
    {
     "data": {
      "text/plain": [
       "['andres', 'esta', 'presente', 'si', 'ahora', 'si']"
      ]
     },
     "execution_count": 124,
     "metadata": {},
     "output_type": "execute_result"
    }
   ],
   "source": [
    "s.insert(-1,\"ahora\")\n",
    "s"
   ]
  },
  {
   "cell_type": "code",
   "execution_count": 125,
   "metadata": {},
   "outputs": [
    {
     "data": {
      "text/plain": [
       "'andres esta presente si ahora si'"
      ]
     },
     "execution_count": 125,
     "metadata": {},
     "output_type": "execute_result"
    }
   ],
   "source": [
    "\" \".join(s)"
   ]
  },
  {
   "cell_type": "code",
   "execution_count": 129,
   "metadata": {},
   "outputs": [
    {
     "data": {
      "text/plain": [
       "[2, 11, 1]"
      ]
     },
     "execution_count": 129,
     "metadata": {},
     "output_type": "execute_result"
    }
   ],
   "source": [
    "g = [1, 11, 2]\n",
    "g.reverse()\n",
    "g"
   ]
  },
  {
   "cell_type": "code",
   "execution_count": 131,
   "metadata": {},
   "outputs": [
    {
     "data": {
      "text/plain": [
       "[1, 2, 11]"
      ]
     },
     "execution_count": 131,
     "metadata": {},
     "output_type": "execute_result"
    }
   ],
   "source": [
    "g.sort()\n",
    "g"
   ]
  },
  {
   "cell_type": "code",
   "execution_count": 133,
   "metadata": {},
   "outputs": [
    {
     "data": {
      "text/plain": [
       "['resultado',\n",
       " 'factores',\n",
       " 'palabras',\n",
       " 'deberia',\n",
       " 'alterar',\n",
       " 'orden',\n",
       " 'orden',\n",
       " 'pero',\n",
       " 'los',\n",
       " 'las',\n",
       " 'El',\n",
       " 'de',\n",
       " 'no',\n",
       " 'el',\n",
       " 'el',\n",
       " 'de',\n",
       " 'si']"
      ]
     },
     "execution_count": 133,
     "metadata": {},
     "output_type": "execute_result"
    }
   ],
   "source": [
    "h = 'El orden de los factores no deberia alterar el resultado pero el orden de las palabras si'.split()\n",
    "h.sort(key = len,reverse = True) # This considers order by len of each element\n",
    "h"
   ]
  },
  {
   "cell_type": "code",
   "execution_count": 134,
   "metadata": {},
   "outputs": [
    {
     "name": "stdout",
     "output_type": "stream",
     "text": [
      "[4, 9, 2, 1]\n",
      "[1, 2, 4, 9]\n"
     ]
    }
   ],
   "source": [
    "x = [4, 9, 2, 1]\n",
    "y = sorted(x)\n",
    "print(x)\n",
    "print(y)"
   ]
  },
  {
   "cell_type": "code",
   "execution_count": 136,
   "metadata": {},
   "outputs": [
    {
     "name": "stdout",
     "output_type": "stream",
     "text": [
      "[4, 9, 2, 1]\n",
      "<list_reverseiterator object at 0x112e732b0>\n"
     ]
    }
   ],
   "source": [
    "z = reversed(x)\n",
    "print(x)\n",
    "print(z) # Interesting"
   ]
  },
  {
   "cell_type": "markdown",
   "metadata": {},
   "source": [
    "#### Dictionaries\n",
    "\n",
    "The magic of python interpreter"
   ]
  },
  {
   "cell_type": "code",
   "execution_count": 137,
   "metadata": {},
   "outputs": [
    {
     "data": {
      "text/plain": [
       "{'Google': 'http://google.com', 'Pluralsight': 'http://pluralsight.com'}"
      ]
     },
     "execution_count": 137,
     "metadata": {},
     "output_type": "execute_result"
    }
   ],
   "source": [
    "url = {'Google': 'http://google.com','Pluralsight':'http://pluralsight.com'}\n",
    "url"
   ]
  },
  {
   "cell_type": "code",
   "execution_count": 139,
   "metadata": {},
   "outputs": [
    {
     "data": {
      "text/plain": [
       "{'Google': 'http://google.com', 'Pluralsight': 'http://pluralsight.com'}"
      ]
     },
     "execution_count": 139,
     "metadata": {},
     "output_type": "execute_result"
    }
   ],
   "source": [
    "url_copy = dict(url)\n",
    "url_copy"
   ]
  },
  {
   "cell_type": "code",
   "execution_count": 141,
   "metadata": {},
   "outputs": [
    {
     "name": "stdout",
     "output_type": "stream",
     "text": [
      "{'Google': 'http://google.com', 'Pluralsight': 'http://pluralsight.com', 'Facebook': 'http://facebook.com', 'Twitter': 'http://twitter.com'}\n"
     ]
    }
   ],
   "source": [
    "url_update = {'Facebook':'http://facebook.com','Twitter':'http://twitter.com'}\n",
    "url_copy.update(url_update)\n",
    "print(url_copy)"
   ]
  },
  {
   "cell_type": "code",
   "execution_count": 142,
   "metadata": {},
   "outputs": [
    {
     "name": "stdout",
     "output_type": "stream",
     "text": [
      "{'Google': 'http://google.com', 'Pluralsight': 'http://pluralsight.com'}\n"
     ]
    }
   ],
   "source": [
    "print(url)"
   ]
  },
  {
   "cell_type": "code",
   "execution_count": 143,
   "metadata": {},
   "outputs": [
    {
     "name": "stdout",
     "output_type": "stream",
     "text": [
      "Google has address http://google.com\n",
      "Pluralsight has address http://pluralsight.com\n",
      "Facebook has address http://facebook.com\n",
      "Twitter has address http://twitter.com\n"
     ]
    }
   ],
   "source": [
    "for key in url_copy:\n",
    "    print('{key} has address {value}'.format(key=key, value= url_copy[key]))\n"
   ]
  },
  {
   "cell_type": "code",
   "execution_count": 144,
   "metadata": {},
   "outputs": [
    {
     "name": "stdout",
     "output_type": "stream",
     "text": [
      "http://google.com\n",
      "http://pluralsight.com\n",
      "http://facebook.com\n",
      "http://twitter.com\n"
     ]
    }
   ],
   "source": [
    "for value in url_copy.values():\n",
    "    print(value)"
   ]
  },
  {
   "cell_type": "code",
   "execution_count": 146,
   "metadata": {},
   "outputs": [
    {
     "name": "stdout",
     "output_type": "stream",
     "text": [
      "Google\n",
      "Pluralsight\n",
      "Facebook\n",
      "Twitter\n"
     ]
    }
   ],
   "source": [
    "for key in url_copy.keys():\n",
    "    print(key)"
   ]
  },
  {
   "cell_type": "code",
   "execution_count": 149,
   "metadata": {},
   "outputs": [
    {
     "name": "stdout",
     "output_type": "stream",
     "text": [
      "Google has address http://google.com\n",
      "Pluralsight has address http://pluralsight.com\n",
      "Facebook has address http://facebook.com\n",
      "Twitter has address http://twitter.com\n"
     ]
    }
   ],
   "source": [
    "for key,value in url_copy.items():\n",
    "    print(f'{key} has address {value}') # Print only for Python 3.6"
   ]
  },
  {
   "cell_type": "code",
   "execution_count": 150,
   "metadata": {},
   "outputs": [
    {
     "ename": "ModuleNotFoundError",
     "evalue": "No module named 'ppprint'",
     "output_type": "error",
     "traceback": [
      "\u001b[0;31m---------------------------------------------------------------------------\u001b[0m",
      "\u001b[0;31mModuleNotFoundError\u001b[0m                       Traceback (most recent call last)",
      "\u001b[0;32m<ipython-input-150-3ad8c6b1df86>\u001b[0m in \u001b[0;36m<module>\u001b[0;34m()\u001b[0m\n\u001b[0;32m----> 1\u001b[0;31m \u001b[0;32mfrom\u001b[0m \u001b[0mppprint\u001b[0m \u001b[0;32mimport\u001b[0m \u001b[0mpprint\u001b[0m \u001b[0;32mas\u001b[0m \u001b[0mpp\u001b[0m\u001b[0;34m\u001b[0m\u001b[0m\n\u001b[0m\u001b[1;32m      2\u001b[0m \u001b[0mpp\u001b[0m\u001b[0;34m(\u001b[0m\u001b[0murl_copy\u001b[0m\u001b[0;34m)\u001b[0m\u001b[0;34m\u001b[0m\u001b[0m\n",
      "\u001b[0;31mModuleNotFoundError\u001b[0m: No module named 'ppprint'"
     ]
    }
   ],
   "source": [
    "from ppprint import pprint as pp\n",
    "pp(url_copy)"
   ]
  },
  {
   "cell_type": "markdown",
   "metadata": {},
   "source": [
    "#### Sets\n",
    "\n",
    "unordered collection of immutable objects"
   ]
  },
  {
   "cell_type": "code",
   "execution_count": 151,
   "metadata": {},
   "outputs": [
    {
     "data": {
      "text/plain": [
       "set"
      ]
     },
     "execution_count": 151,
     "metadata": {},
     "output_type": "execute_result"
    }
   ],
   "source": [
    "p = {4, 2, 3, 4}\n",
    "type(p)"
   ]
  },
  {
   "cell_type": "code",
   "execution_count": 153,
   "metadata": {},
   "outputs": [
    {
     "data": {
      "text/plain": [
       "dict"
      ]
     },
     "execution_count": 153,
     "metadata": {},
     "output_type": "execute_result"
    }
   ],
   "source": [
    "d = {}\n",
    "type(d)"
   ]
  },
  {
   "cell_type": "code",
   "execution_count": 155,
   "metadata": {},
   "outputs": [
    {
     "data": {
      "text/plain": [
       "set"
      ]
     },
     "execution_count": 155,
     "metadata": {},
     "output_type": "execute_result"
    }
   ],
   "source": [
    "e = set()\n",
    "type(e)"
   ]
  },
  {
   "cell_type": "code",
   "execution_count": 156,
   "metadata": {},
   "outputs": [
    {
     "data": {
      "text/plain": [
       "{1, 2, 3, 4, 5}"
      ]
     },
     "execution_count": 156,
     "metadata": {},
     "output_type": "execute_result"
    }
   ],
   "source": [
    "set([1,1,2,3,3,4,5])"
   ]
  },
  {
   "cell_type": "code",
   "execution_count": 157,
   "metadata": {},
   "outputs": [
    {
     "data": {
      "text/plain": [
       "True"
      ]
     },
     "execution_count": 157,
     "metadata": {},
     "output_type": "execute_result"
    }
   ],
   "source": [
    "q = {2,4,9}\n",
    "2 in q"
   ]
  },
  {
   "cell_type": "code",
   "execution_count": 164,
   "metadata": {},
   "outputs": [
    {
     "data": {
      "text/plain": [
       "{2, 4, 9, 10}"
      ]
     },
     "execution_count": 164,
     "metadata": {},
     "output_type": "execute_result"
    }
   ],
   "source": [
    "q.add(10)\n",
    "q"
   ]
  },
  {
   "cell_type": "code",
   "execution_count": 165,
   "metadata": {},
   "outputs": [
    {
     "data": {
      "text/plain": [
       "{2, 4, 9, 10}"
      ]
     },
     "execution_count": 165,
     "metadata": {},
     "output_type": "execute_result"
    }
   ],
   "source": [
    "q.add(2)\n",
    "q\n"
   ]
  },
  {
   "cell_type": "code",
   "execution_count": 166,
   "metadata": {},
   "outputs": [
    {
     "data": {
      "text/plain": [
       "{2, 4, 9}"
      ]
     },
     "execution_count": 166,
     "metadata": {},
     "output_type": "execute_result"
    }
   ],
   "source": [
    "q.remove(10)\n",
    "q"
   ]
  },
  {
   "cell_type": "code",
   "execution_count": 168,
   "metadata": {},
   "outputs": [
    {
     "data": {
      "text/plain": [
       "{2, 4}"
      ]
     },
     "execution_count": 168,
     "metadata": {},
     "output_type": "execute_result"
    }
   ],
   "source": [
    "q.discard(9) # This does not throws an error if element is absent\n",
    "q"
   ]
  },
  {
   "cell_type": "code",
   "execution_count": 170,
   "metadata": {},
   "outputs": [
    {
     "data": {
      "text/plain": [
       "{'Amelia', 'Harry', 'Jack', 'Lily', 'Olivia'}"
      ]
     },
     "execution_count": 170,
     "metadata": {},
     "output_type": "execute_result"
    }
   ],
   "source": [
    "blue_eyes={'Olivia','Harry','Lily'}\n",
    "blond_hair={'Harry','Jack','Amelia'}\n",
    "blue_eyes.union(blond_hair) # Commutative"
   ]
  },
  {
   "cell_type": "code",
   "execution_count": 172,
   "metadata": {},
   "outputs": [
    {
     "data": {
      "text/plain": [
       "{'Harry'}"
      ]
     },
     "execution_count": 172,
     "metadata": {},
     "output_type": "execute_result"
    }
   ],
   "source": [
    "blue_eyes.intersection(blond_hair) # Commutative"
   ]
  },
  {
   "cell_type": "code",
   "execution_count": 174,
   "metadata": {},
   "outputs": [
    {
     "data": {
      "text/plain": [
       "{'Lily', 'Olivia'}"
      ]
     },
     "execution_count": 174,
     "metadata": {},
     "output_type": "execute_result"
    }
   ],
   "source": [
    "blue_eyes.difference(blond_hair) # Not commutative A.diff(B) elements in A not in B"
   ]
  },
  {
   "cell_type": "code",
   "execution_count": 176,
   "metadata": {},
   "outputs": [
    {
     "data": {
      "text/plain": [
       "{'Amelia', 'Jack', 'Lily', 'Olivia'}"
      ]
     },
     "execution_count": 176,
     "metadata": {},
     "output_type": "execute_result"
    }
   ],
   "source": [
    "blond_hair.symmetric_difference(blue_eyes) # Exclusive or"
   ]
  },
  {
   "cell_type": "code",
   "execution_count": 178,
   "metadata": {},
   "outputs": [
    {
     "data": {
      "text/plain": [
       "True"
      ]
     },
     "execution_count": 178,
     "metadata": {},
     "output_type": "execute_result"
    }
   ],
   "source": [
    "{'Amelia','Harry'}.issubset(blond_hair) # A.issubset(B) A is subset of B"
   ]
  },
  {
   "cell_type": "code",
   "execution_count": 180,
   "metadata": {},
   "outputs": [
    {
     "data": {
      "text/plain": [
       "False"
      ]
     },
     "execution_count": 180,
     "metadata": {},
     "output_type": "execute_result"
    }
   ],
   "source": [
    "blue_eyes.issuperset({'Amelia','Harry'}) # A.isupperset B .. A supersets (contiene) B"
   ]
  },
  {
   "cell_type": "code",
   "execution_count": 181,
   "metadata": {},
   "outputs": [
    {
     "data": {
      "text/plain": [
       "False"
      ]
     },
     "execution_count": 181,
     "metadata": {},
     "output_type": "execute_result"
    }
   ],
   "source": [
    "blue_eyes.isdisjoint(blond_hair) "
   ]
  },
  {
   "cell_type": "code",
   "execution_count": null,
   "metadata": {},
   "outputs": [],
   "source": []
  }
 ],
 "metadata": {
  "kernelspec": {
   "display_name": "Python 3",
   "language": "python",
   "name": "python3"
  },
  "language_info": {
   "codemirror_mode": {
    "name": "ipython",
    "version": 3
   },
   "file_extension": ".py",
   "mimetype": "text/x-python",
   "name": "python",
   "nbconvert_exporter": "python",
   "pygments_lexer": "ipython3",
   "version": "3.6.3"
  }
 },
 "nbformat": 4,
 "nbformat_minor": 2
}
