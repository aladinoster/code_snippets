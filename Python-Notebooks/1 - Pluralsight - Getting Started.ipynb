{
 "cells": [
  {
   "cell_type": "markdown",
   "metadata": {},
   "source": [
    "# Python: Getting Started\n",
    "\n",
    "These are main notes from the `Python: Getting Started` from Pluralsight"
   ]
  },
  {
   "cell_type": "markdown",
   "metadata": {},
   "source": [
    "## Types, Statements and Other Goodies"
   ]
  },
  {
   "cell_type": "markdown",
   "metadata": {},
   "source": [
    "### `if` Statements\n",
    "\n",
    "`None` behaves similar to `False`"
   ]
  },
  {
   "cell_type": "code",
   "execution_count": 1,
   "metadata": {
    "collapsed": false
   },
   "outputs": [
    {
     "name": "stdout",
     "output_type": "stream",
     "text": [
      "5\n",
      "Value of number is:  None\n"
     ]
    }
   ],
   "source": [
    "# Existence of a number\n",
    "number = 5\n",
    "\n",
    "# In an if statement it is equivalent to false\n",
    "number2 = None\n",
    "\n",
    "if number:\n",
    "    print(number)\n",
    "    \n",
    "if number2:\n",
    "    print(number2)\n",
    "else:\n",
    "    print('Value of number is:  {0}'.format(number2))"
   ]
  },
  {
   "cell_type": "markdown",
   "metadata": {},
   "source": [
    "`if` in a fast way "
   ]
  },
  {
   "cell_type": "code",
   "execution_count": 2,
   "metadata": {
    "collapsed": false
   },
   "outputs": [
    {
     "data": {
      "text/plain": [
       "'bigger'"
      ]
     },
     "execution_count": 2,
     "metadata": {},
     "output_type": "execute_result"
    }
   ],
   "source": [
    "# Fast way to print conditions\n",
    "a = 2\n",
    "b = 1\n",
    "'bigger' if a>b else 'smaller'"
   ]
  },
  {
   "cell_type": "markdown",
   "metadata": {},
   "source": [
    "`not` in conditionals"
   ]
  },
  {
   "cell_type": "code",
   "execution_count": 3,
   "metadata": {
    "collapsed": false
   },
   "outputs": [
    {
     "name": "stdout",
     "output_type": "stream",
     "text": [
      "Value assigned: 3\n"
     ]
    }
   ],
   "source": [
    "if not number2:\n",
    "    number2 = 3\n",
    "    print('Value assigned: {0}'.format(number2))\n"
   ]
  },
  {
   "cell_type": "markdown",
   "metadata": {},
   "source": [
    "### Loops\n",
    "\n",
    "Used to repeat tasks in an iterative way"
   ]
  },
  {
   "cell_type": "code",
   "execution_count": 4,
   "metadata": {
    "collapsed": false
   },
   "outputs": [
    {
     "name": "stdout",
     "output_type": "stream",
     "text": [
      "Student name is Karina\n",
      "Student name is Marta\n"
     ]
    }
   ],
   "source": [
    "student_names = ['Karina','Marta']\n",
    "\n",
    "for name in student_names:\n",
    "    print(\"Student name is {0}\".format(name))"
   ]
  },
  {
   "cell_type": "markdown",
   "metadata": {},
   "source": [
    "Iterating based on number of iterations"
   ]
  },
  {
   "cell_type": "code",
   "execution_count": 5,
   "metadata": {
    "collapsed": false
   },
   "outputs": [
    {
     "name": "stdout",
     "output_type": "stream",
     "text": [
      "Value of X is 10\n",
      "Value of X is 20\n",
      "Value of X is 30\n",
      "Value of X is 40\n",
      "Value of X is 50\n",
      "Value of X is 60\n",
      "Value of X is 70\n",
      "Value of X is 80\n",
      "Value of X is 90\n",
      "Value of X is 100\n"
     ]
    }
   ],
   "source": [
    "x = 0\n",
    "\n",
    "# Range work as the number of iterations 10 in this case\n",
    "for index in range(10):\n",
    "    x += 10\n",
    "    print('Value of X is {0}'.format(x))\n"
   ]
  },
  {
   "cell_type": "code",
   "execution_count": 6,
   "metadata": {
    "collapsed": false
   },
   "outputs": [
    {
     "name": "stdout",
     "output_type": "stream",
     "text": [
      "Value of X is 10\n",
      "Value of X is 20\n",
      "Value of X is 30\n",
      "Value of X is 40\n",
      "Value of X is 50\n"
     ]
    }
   ],
   "source": [
    "x = 0\n",
    "# Not starting from 0\n",
    "for index in range(5,10):\n",
    "    x += 10\n",
    "    print('Value of X is {0}'.format(x))"
   ]
  },
  {
   "cell_type": "code",
   "execution_count": 7,
   "metadata": {
    "collapsed": false
   },
   "outputs": [
    {
     "name": "stdout",
     "output_type": "stream",
     "text": [
      "Value of X is 10\n",
      "Value of X is 20\n",
      "Value of X is 30\n",
      "Value of X is 40\n"
     ]
    }
   ],
   "source": [
    "x = 0\n",
    "# Jumping \n",
    "for index in range(0,10,3):\n",
    "    x += 10\n",
    "    print('Value of X is {0}'.format(x))"
   ]
  },
  {
   "cell_type": "markdown",
   "metadata": {},
   "source": [
    "### Break and continue"
   ]
  },
  {
   "cell_type": "markdown",
   "metadata": {},
   "source": [
    "`break` helps to limit iterations based on conditionals"
   ]
  },
  {
   "cell_type": "code",
   "execution_count": 8,
   "metadata": {
    "collapsed": false
   },
   "outputs": [
    {
     "name": "stdout",
     "output_type": "stream",
     "text": [
      "Currently testing: James\n",
      "Currently testing: Karina\n",
      "Currently testing: Jessica\n",
      "Found him! Mark\n"
     ]
    }
   ],
   "source": [
    "student_names = ['James','Karina','Jessica','Mark','Bort','Frank Grimes','Max Power']\n",
    "\n",
    "for name in student_names:\n",
    "    if name == 'Mark':\n",
    "        print('Found him! ' + name)\n",
    "        break\n",
    "    print('Currently testing: ' + name)"
   ]
  },
  {
   "cell_type": "markdown",
   "metadata": {},
   "source": [
    "`continue` is away to skip particular iterations"
   ]
  },
  {
   "cell_type": "code",
   "execution_count": 9,
   "metadata": {
    "collapsed": false
   },
   "outputs": [
    {
     "name": "stdout",
     "output_type": "stream",
     "text": [
      "Currently testing: James\n",
      "Currently testing: Karina\n",
      "Currently testing: Jessica\n",
      "Currently testing: Mark\n",
      "Currently testing: Frank Grimes\n",
      "Currently testing: Max Power\n"
     ]
    }
   ],
   "source": [
    "\n",
    "for name in student_names:\n",
    "    if name == 'Bort':\n",
    "        continue\n",
    "        print('Found him! ' + name)\n",
    "    print('Currently testing: ' + name)"
   ]
  },
  {
   "cell_type": "markdown",
   "metadata": {},
   "source": [
    "### Dictionaries"
   ]
  },
  {
   "cell_type": "markdown",
   "metadata": {},
   "source": [
    "To save `key` and `values` in python"
   ]
  },
  {
   "cell_type": "code",
   "execution_count": 10,
   "metadata": {
    "collapsed": true
   },
   "outputs": [],
   "source": [
    "# Dictionary with 3 keys\n",
    "student = {\n",
    "    'name': 'Mark',\n",
    "    'student_id': 14163,\n",
    "    'feedback': None\n",
    "}"
   ]
  },
  {
   "cell_type": "markdown",
   "metadata": {},
   "source": [
    "* `keys` can be whatever object **strings**,**integers** even **dictionaries**!"
   ]
  },
  {
   "cell_type": "markdown",
   "metadata": {},
   "source": [
    "Multiple dictionaries are put in a list"
   ]
  },
  {
   "cell_type": "code",
   "execution_count": 11,
   "metadata": {
    "collapsed": true
   },
   "outputs": [],
   "source": [
    "all_students = [\n",
    "    {'name': 'Mark','student_id': 15163},\n",
    "    {'name': 'Katarina','student_id': 63112},\n",
    "    {'name': 'Jessica','student_id': 30021}\n",
    "]"
   ]
  },
  {
   "cell_type": "markdown",
   "metadata": {},
   "source": [
    "Accesing dictionaries"
   ]
  },
  {
   "cell_type": "code",
   "execution_count": 12,
   "metadata": {
    "collapsed": false
   },
   "outputs": [
    {
     "name": "stdout",
     "output_type": "stream",
     "text": [
      "dict_values([14163, None, 'Mark'])\n",
      "dict_keys(['student_id', 'feedback', 'name'])\n",
      "Unknown\n"
     ]
    }
   ],
   "source": [
    "# Get a specific value\n",
    "(student['name'])\n",
    "\n",
    "# Get all values \n",
    "print(student.values())\n",
    "\n",
    "# Get all keys\n",
    "print(student.keys())\n",
    "\n",
    "# Save way to access keys if not found returns the second paremeter\n",
    "print(student.get('last_name','Unknown'))"
   ]
  },
  {
   "cell_type": "code",
   "execution_count": 13,
   "metadata": {
    "collapsed": false
   },
   "outputs": [
    {
     "name": "stdout",
     "output_type": "stream",
     "text": [
      "dict_values([14163, None, 'James'])\n"
     ]
    }
   ],
   "source": [
    "# Reassigning values to a dictionary\n",
    "student['name'] = 'James'\n",
    "print(student.values())"
   ]
  },
  {
   "cell_type": "markdown",
   "metadata": {},
   "source": [
    "### Exceptions\n",
    "\n",
    "It is the correct way to handle errors. Exceptions are of multiple types `KeyError`, `ValueError`, `IndexError`, `TypeError` etc."
   ]
  },
  {
   "cell_type": "code",
   "execution_count": 14,
   "metadata": {
    "collapsed": false
   },
   "outputs": [
    {
     "name": "stdout",
     "output_type": "stream",
     "text": [
      "Error finding last name\n",
      "This code executes\n"
     ]
    }
   ],
   "source": [
    "# Dictionary with 3 keys\n",
    "student = {\n",
    "    'name': 'Mark',\n",
    "    'student_id': 14163,\n",
    "    'feedback': None\n",
    "}\n",
    "\n",
    "try: \n",
    "    last_name = student['last_name']\n",
    "except KeyError:\n",
    "    print('Error finding last name')\n",
    "    \n",
    "print('This code executes')"
   ]
  },
  {
   "cell_type": "code",
   "execution_count": 15,
   "metadata": {
    "collapsed": false
   },
   "outputs": [
    {
     "name": "stdout",
     "output_type": "stream",
     "text": [
      "I can't add this two together\n",
      "unsupported operand type(s) for +: 'int' and 'str'\n",
      "This code executes\n",
      "Unknown error\n",
      "This code executes\n"
     ]
    }
   ],
   "source": [
    "student['last_name'] = 'Kowalski'\n",
    "\n",
    "try: \n",
    "    last_name = student['last_name']\n",
    "    number_last_name = 3 + last_name \n",
    "except KeyError:\n",
    "    print('Error finding last name')\n",
    "except TypeError as error:\n",
    "    print(\"I can't add this two together\")\n",
    "    print(error)\n",
    "print('This code executes')\n",
    "    \n",
    "# All error exceptions    \n",
    "try: \n",
    "    last_name = student['last_name']\n",
    "    number_last_name = 3 + last_name \n",
    "except Exception:\n",
    "    print('Unknown error')       \n",
    "print('This code executes')"
   ]
  },
  {
   "cell_type": "markdown",
   "metadata": {},
   "source": [
    "## Functions, Files, Yield and Lambda\n",
    "\n",
    "### Functions\n",
    "\n",
    "Objective is to create `PyStudentManager`. It should have\n",
    "\n",
    "* Student details \n",
    "* Easy to expand \n",
    "* From console to web app easily\n",
    "\n",
    "Functions are pieces of reusable codes. \n",
    "\n",
    "**Key Principle**: 1 function 1 thing\n",
    "\n",
    "In the case below we define 3 functions. "
   ]
  },
  {
   "cell_type": "code",
   "execution_count": 16,
   "metadata": {
    "collapsed": false
   },
   "outputs": [
    {
     "name": "stdout",
     "output_type": "stream",
     "text": [
      "Fixed arguments: Mark\n",
      "Variable arguments:  ('love', 'python', True, 3)\n",
      "Fixed arguments: Mark\n",
      "Variable argument (description):  love\n",
      "Variable argument (say):  True\n"
     ]
    }
   ],
   "source": [
    "students = []\n",
    "\n",
    "def get_students_titlecase():\n",
    "    students_titlecase = []\n",
    "    for student in students:\n",
    "        students_titlecase.append(student['name'].title())\n",
    "    return students_titlecase\n",
    "\n",
    "\n",
    "def print_students_titlecase():\n",
    "    students_titlecase = get_students_titlecase()\n",
    "    print(students_titlecase)\n",
    "    \n",
    "    \n",
    "def add_student(name, student_id = None):\n",
    "    student = {'name': name, 'student_id': student_id}\n",
    "    students.append(student)\n",
    "    \n",
    "    \n",
    "def var_args(name, *args):\n",
    "    print('Fixed arguments:', name)\n",
    "    print('Variable arguments: ',args)\n",
    "    \n",
    "\n",
    "def var_kwargs(name, **kwargs):\n",
    "    print('Fixed arguments:', name)\n",
    "    print('Variable argument (description): ', kwargs['description'])\n",
    "    print('Variable argument (say): ', kwargs['say'])\n",
    "    \n",
    "student_list = get_students_titlecase()\n",
    "\n",
    "# Optional arguments\n",
    "add_student(\"Mark\")\n",
    "\n",
    "# Formal call\n",
    "add_student(\"James\", 332)\n",
    "\n",
    "# Referenced parameters \n",
    "add_student(name=\"Jules\", student_id=234)            \n",
    "\n",
    "# Variable number of arguments\n",
    "var_args('Mark','love','python',True,3)\n",
    "\n",
    "# Variable number of arguments with keywords\n",
    "var_kwargs('Mark',description = 'love',language = 'python', say = True, age = 3)\n",
    "\n",
    "# print(students)"
   ]
  },
  {
   "cell_type": "markdown",
   "metadata": {},
   "source": [
    "### Call functions\n",
    "Be sure to run the previous block. The following block is a way to include."
   ]
  },
  {
   "cell_type": "code",
   "execution_count": 17,
   "metadata": {
    "collapsed": false
   },
   "outputs": [
    {
     "name": "stdout",
     "output_type": "stream",
     "text": [
      "Enter student name: Jhon\n",
      "Enter student ID: 338\n",
      "['Jhon']\n"
     ]
    }
   ],
   "source": [
    "students = []\n",
    "\n",
    "student_list = get_students_titlecase()\n",
    "student_name = input('Enter student name: ')\n",
    "student_id = input('Enter student ID: ')\n",
    "\n",
    "add_student(student_name, student_id)\n",
    "print_students_titlecase()\n"
   ]
  },
  {
   "cell_type": "markdown",
   "metadata": {},
   "source": [
    "### Nested functions\n",
    "\n",
    "We can define inner functions. The big advantage is access to local internal variables. In the example `students` is accessible. It is called a clousure"
   ]
  },
  {
   "cell_type": "code",
   "execution_count": 18,
   "metadata": {
    "collapsed": false
   },
   "outputs": [
    {
     "name": "stdout",
     "output_type": "stream",
     "text": [
      "['Mark', 'James']\n"
     ]
    }
   ],
   "source": [
    "def get_students():\n",
    "    students = ['mark','james']\n",
    "    def get_students_titlecase_internal():\n",
    "        students_titlecase = []\n",
    "        # We have access to students! \n",
    "        for student in students:\n",
    "            students_titlecase.append(student.title())\n",
    "        return students_titlecase\n",
    "    students_titlecase_names = get_students_titlecase_internal()\n",
    "    print(students_titlecase_names)\n",
    "\n",
    "get_students()"
   ]
  },
  {
   "cell_type": "markdown",
   "metadata": {},
   "source": [
    "### Writting files \n",
    "\n",
    "Open in appending mode `a` in the argument open means that we intend to append text to the file:\n",
    "\n",
    "* 'w'- writing: overwrite the entire file \n",
    "* 'r'- reading: reading a text file \n",
    "* 'a'- appending: appending to a new or existing file\n",
    "* 'rb'- reading: reading a binary file \n",
    "* 'wb'- writting: writting a binary file\n",
    "\n",
    "In the purpose or this demonstration we save names in each line of the file \n",
    "\n",
    "* `readlines` just reads each lines of the text file and put them in a list"
   ]
  },
  {
   "cell_type": "code",
   "execution_count": 19,
   "metadata": {
    "collapsed": false
   },
   "outputs": [
    {
     "name": "stdout",
     "output_type": "stream",
     "text": [
      "['Juan\\n', 'Luisa\\n', 'Angela\\n', 'Lisa\\n', 'Bart\\n', 'Martin\\n', 'Luis\\n', 'Camila\\n', 'Jaime\\n', 'Ana\\n']\n",
      "Enter student name: Johan\n",
      "Enter student ID: 432\n"
     ]
    }
   ],
   "source": [
    "def save_file(student):\n",
    "    try: \n",
    "        f = open('students.txt','a') # The file does not need to exist a\n",
    "        f.write(student+'\\n')\n",
    "        f.close()\n",
    "    except Exception:\n",
    "        print('Could not save the file')\n",
    "\n",
    "def read_file():\n",
    "    try: \n",
    "        f = open('students.txt','r')\n",
    "        for student in f.readlines():\n",
    "            add_student(student)\n",
    "        f.close()\n",
    "    except Exception:\n",
    "        print('Could not read this file')\n",
    "\n",
    "students = []\n",
    "read_file()\n",
    "print_students_titlecase()        \n",
    "\n",
    "student_list = get_students_titlecase()\n",
    "student_name = input('Enter student name: ')\n",
    "student_id = input('Enter student ID: ')\n",
    "\n",
    "add_student(student_name, student_id)\n",
    "\n",
    "save_file(student_name)\n",
    "\n",
    "# print(students) # Take care not to create garbage here\n",
    "             \n"
   ]
  },
  {
   "cell_type": "markdown",
   "metadata": {},
   "source": [
    "### Generators \n",
    "\n",
    "`for` uses a function in example `range` as an iterator? Main question is can we create a function that can return an iterable object? In the previous cases for example `f.readlines()` can we replace it? Let's try out. \n",
    "\n",
    "What the function does is iterates over the file and yields (produce/cede) a single line over that file. Look there are 2 loops \n",
    "\n",
    "* The `read_students` runs over the file all lines.\n",
    "* The `read_file` runs over the result of `read_students`. `read_students` (produce/cede) yields a single line for each iteration. \n"
   ]
  },
  {
   "cell_type": "code",
   "execution_count": 20,
   "metadata": {
    "collapsed": false
   },
   "outputs": [
    {
     "name": "stdout",
     "output_type": "stream",
     "text": [
      "[{'student_id': None, 'name': 'Juan\\n'}, {'student_id': None, 'name': 'Luisa\\n'}, {'student_id': None, 'name': 'Angela\\n'}, {'student_id': None, 'name': 'Lisa\\n'}, {'student_id': None, 'name': 'Bart\\n'}, {'student_id': None, 'name': 'Martin\\n'}, {'student_id': None, 'name': 'Luis\\n'}, {'student_id': None, 'name': 'Camila\\n'}, {'student_id': None, 'name': 'Jaime\\n'}, {'student_id': None, 'name': 'Ana\\n'}, {'student_id': None, 'name': 'Johan\\n'}]\n"
     ]
    }
   ],
   "source": [
    "students = []\n",
    "\n",
    "def read_students(f):\n",
    "    for line in f:\n",
    "        yield line\n",
    "\n",
    "def read_file():\n",
    "    try: \n",
    "        f = open('students.txt','r')\n",
    "        for student in read_students(f):\n",
    "            add_student(student)\n",
    "        f.close()\n",
    "    except Exception:\n",
    "        print('Could not read this file')\n",
    "\n",
    "\n",
    "\n",
    "        \n",
    "\n",
    "read_file()\n",
    "print(students)"
   ]
  },
  {
   "cell_type": "markdown",
   "metadata": {},
   "source": [
    "### Lambda functions\n",
    "\n",
    "Anonymus functions. They are useful when passing functions as arguments "
   ]
  },
  {
   "cell_type": "code",
   "execution_count": 21,
   "metadata": {
    "collapsed": false
   },
   "outputs": [
    {
     "data": {
      "text/plain": [
       "10"
      ]
     },
     "execution_count": 21,
     "metadata": {},
     "output_type": "execute_result"
    }
   ],
   "source": [
    "# Classical way\n",
    "def double(x):\n",
    "    return x*2\n",
    "\n",
    "# Lambda style\n",
    "double = lambda x: x*2\n",
    "\n",
    "double(5)"
   ]
  },
  {
   "cell_type": "markdown",
   "metadata": {},
   "source": [
    "## Object oriented programming: Classes and why do we need them?\n",
    "\n",
    "### Classes\n",
    "\n",
    "`class` is the keyword to declare a class. It is a group of data, and methods.\n",
    "\n",
    "* Classes allow more readable and mantainable code over dictionaries\n"
   ]
  },
  {
   "cell_type": "code",
   "execution_count": 22,
   "metadata": {
    "collapsed": false
   },
   "outputs": [
    {
     "name": "stdout",
     "output_type": "stream",
     "text": [
      "[{'student_id': 332, 'name': 'Mark'}]\n"
     ]
    }
   ],
   "source": [
    "students = [];\n",
    "\n",
    "class Student:        \n",
    "    def add_student(self, name, student_id = 332):\n",
    "        student = {'name': name, 'student_id': student_id}\n",
    "        students.append(student)\n",
    "            \n",
    "    \n",
    "student = Student()\n",
    "student.add_student('Mark')\n",
    "\n",
    "print(students)"
   ]
  },
  {
   "cell_type": "markdown",
   "metadata": {},
   "source": [
    "Programming constructor methods"
   ]
  },
  {
   "cell_type": "code",
   "execution_count": 23,
   "metadata": {
    "collapsed": false
   },
   "outputs": [
    {
     "name": "stdout",
     "output_type": "stream",
     "text": [
      "Student\n"
     ]
    }
   ],
   "source": [
    "students = [];\n",
    "\n",
    "class Student:        \n",
    "    def __init__(self, name, student_id = 332):\n",
    "        student = {'name': name, 'student_id': student_id}\n",
    "        students.append(student)\n",
    "    \n",
    "    def __str__(self):\n",
    "        return 'Student'\n",
    "            \n",
    "    \n",
    "mark = Student('Mark')\n",
    "\n",
    "print(mark)"
   ]
  },
  {
   "cell_type": "markdown",
   "metadata": {},
   "source": [
    "Add class attributes. Now we get rid off the dictionary and we replace the list of dictionaries by a list of classes. \n",
    "\n",
    "* _Class attributes_ They don't change w.r.t the instance\n",
    "* _Instance attributes_ They belong to the instance"
   ]
  },
  {
   "cell_type": "code",
   "execution_count": 24,
   "metadata": {
    "collapsed": false
   },
   "outputs": [
    {
     "name": "stdout",
     "output_type": "stream",
     "text": [
      "Student: Mark\n",
      "Springfield Elementary\n"
     ]
    }
   ],
   "source": [
    "students = [];\n",
    "\n",
    "class Student: \n",
    "    \n",
    "    school_name = \"Springfield Elementary\"\n",
    "    \n",
    "    def __init__(self, name, student_id = 332):\n",
    "        self.name = name\n",
    "        self.student_id = student_id\n",
    "        students.append(self)\n",
    "    \n",
    "    def __str__(self):\n",
    "        return 'Student: ' + self.name\n",
    "    \n",
    "    def get_school_name(self):\n",
    "        return self.school_name\n",
    "    \n",
    "    def get_name_capitalize(self):\n",
    "        return self.name.capitalize()\n",
    "            \n",
    "    \n",
    "mark = Student('Mark')\n",
    "\n",
    "print(mark)\n",
    "\n",
    "# Not that it is not calling an instance \n",
    "print(Student.school_name)"
   ]
  },
  {
   "cell_type": "markdown",
   "metadata": {},
   "source": [
    "### Inheritance and Polymorphism\n",
    "\n",
    "Inherit a behavior of a class. Class extenstion"
   ]
  },
  {
   "cell_type": "code",
   "execution_count": 25,
   "metadata": {
    "collapsed": false
   },
   "outputs": [
    {
     "name": "stdout",
     "output_type": "stream",
     "text": [
      "James-HS\n"
     ]
    }
   ],
   "source": [
    "class Student: \n",
    "    \n",
    "    school_name = \"Springfield Elementary\"\n",
    "    \n",
    "    def __init__(self, name, student_id = 332):\n",
    "        self.name = name\n",
    "        self.student_id = student_id\n",
    "        students.append(self)\n",
    "    \n",
    "    def __str__(self):\n",
    "        return 'Student: ' + self.name\n",
    "    \n",
    "    def get_school_name(self):\n",
    "        return self.school_name\n",
    "    \n",
    "    def get_name_capitalize(self):\n",
    "        return self.name.capitalize()\n",
    "            \n",
    "        \n",
    "# Derived class        \n",
    "class HighSchoolStudent(Student):\n",
    "    \n",
    "    school_name = \"Springfield High School\"\n",
    "    \n",
    "    # super method are used to modify parent methods (addapt)\n",
    "    def get_name_capitalize(self):\n",
    "        original_value = super().get_name_capitalize()\n",
    "        return original_value + '-HS'\n",
    "    \n",
    "james = HighSchoolStudent(\"james\")\n",
    "print(james.get_name_capitalize())"
   ]
  },
  {
   "cell_type": "markdown",
   "metadata": {},
   "source": [
    "Separating into multiple files"
   ]
  },
  {
   "cell_type": "code",
   "execution_count": 26,
   "metadata": {
    "collapsed": false
   },
   "outputs": [],
   "source": [
    "from hs_student import *\n",
    "\n",
    "# check on main.py here it does not work \n",
    "# james = HighSchoolStudent('james')\n",
    "# print(james.get_name_capitalize())"
   ]
  },
  {
   "cell_type": "markdown",
   "metadata": {
    "collapsed": true
   },
   "source": [
    "## Put it all together. Let's make a web app\n",
    "\n",
    "Fask is same as django. The approach is a bit different. It is minimalistic."
   ]
  },
  {
   "cell_type": "code",
   "execution_count": null,
   "metadata": {
    "collapsed": false
   },
   "outputs": [
    {
     "name": "stderr",
     "output_type": "stream",
     "text": [
      " * Running on http://127.0.0.1:5000/ (Press CTRL+C to quit)\n",
      "127.0.0.1 - - [12/Nov/2017 14:03:40] \"GET / HTTP/1.1\" 200 -\n",
      "127.0.0.1 - - [12/Nov/2017 14:03:41] \"GET /favicon.ico HTTP/1.1\" 404 -\n"
     ]
    }
   ],
   "source": [
    "from flask import Flask \n",
    "app = Flask(__name__)\n",
    "\n",
    "@app.route(\"/\")\n",
    "def hello():\n",
    "    return \"Hello World!\"\n",
    "\n",
    "if __name__== \"__main__\":\n",
    "    app.run()"
   ]
  },
  {
   "cell_type": "markdown",
   "metadata": {
    "collapsed": true
   },
   "source": [
    "A more complex scenario is developed in an example `/python-getting-started/5-python-getting-started-m5-exercise-files/webapp/app.py`. Check downloaded code from the website. "
   ]
  },
  {
   "cell_type": "code",
   "execution_count": null,
   "metadata": {
    "collapsed": true
   },
   "outputs": [],
   "source": []
  }
 ],
 "metadata": {
  "kernelspec": {
   "display_name": "Python 3",
   "language": "python",
   "name": "python3"
  },
  "language_info": {
   "codemirror_mode": {
    "name": "ipython",
    "version": 3
   },
   "file_extension": ".py",
   "mimetype": "text/x-python",
   "name": "python",
   "nbconvert_exporter": "python",
   "pygments_lexer": "ipython3",
   "version": "3.4.3"
  }
 },
 "nbformat": 4,
 "nbformat_minor": 1
}
